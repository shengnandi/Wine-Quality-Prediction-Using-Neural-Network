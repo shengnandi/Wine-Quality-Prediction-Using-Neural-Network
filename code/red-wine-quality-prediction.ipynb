{
   "cell_type": "markdown",
   "id": "9d394830",
   "metadata": {
    "papermill": {
     "duration": 0.029437,
     "end_time": "2022-03-11T15:16:09.468404",
     "exception": false,
     "start_time": "2022-03-11T15:16:09.438967",
     "status": "completed"
    },
    "tags": []
   },
   "source": [
    "![kirmizi-sarap-cesitleri-scaled.jpg](attachment:15d07e2f-1558-4067-844e-192830a188a0.jpg)"
   ]
  },
  {
   "cell_type": "markdown",
   "id": "00fc95aa",
   "metadata": {
    "papermill": {
     "duration": 0.042534,
     "end_time": "2022-03-11T15:16:09.546579",
     "exception": false,
     "start_time": "2022-03-11T15:16:09.504045",
     "status": "completed"
    },
    "tags": []
   },
   "source": [
    "**The Red Wine Quality dataset contains information about various physicochemical properties of wines.**\n",
    "\n",
    "**This dataset only has numeric variables:**\n",
    "\n",
    "**fixed acidity**: Influences the flavor of the wine. A significant reduction in acids can lead to wines that taste flat. Examples of fixed acids are tartaric, malic, citric, and succinic, which can be found in grapes (except succinic). It is measured in g/dm3.\n",
    "\n",
    "**volatile acidity**: These acids must be distilled out from the wine before the end of the production process. Excess of volatile acids are undesirable and lead to unpleasant flavor. It is measured in g/dm3.\n",
    "citric acid: The amount of citric acid in the wine, which most of it is usually consumed during the fermentation process. It acts as a preservative and small quantities can add freshness and flavor. It is measured in g/dm3.\n",
    "\n",
    "**residual sugar:** The amount of sugar remaining after the end of the fermentation. The goal is to have a perfect balance between sweetness and sourness. Wines with more than 45g/dm3 are considered sweet. It is measured in g/dm3.\n",
    "\n",
    "**chlorides:** The amount of salt in the wine.\n",
    "\n",
    "**free sulfur dioxide:** The amount of sulfur dioxide (SO2) in free form. They are also known as sulfites and too much of it is undesirable and gives a pungent odour. It is measured in g/dm3.\n",
    "\n",
    "**total sulfur dioxide:** The total amount of SO2 in the wine. This is added to kill harmful bacteria and preserve quality and freshness. It is measured in mg/dm3.\n",
    "\n",
    "**density:** It is used as a measure of the conversion of sugar to alcohol. Sweeter wines have higher density.\n",
    "\n",
    "**pH:** Describes how acidic or basic a wine is on a scale from 0 (very acidic) to 14 (very basic).\n",
    "\n",
    "**sulphates:** The amount of mineral salts containing sulfur in the wine. It is an additive which can contribute to sulfur dioxide gas (S02) levels and acts as an antimicrobial and antioxidant. They are related to the fermentation process and affect the aroma and flavor of the wine.\n",
    "\n",
    "**alcohol:** Alcohol is formed as a result of yeast converting sugar during the fermentation process. It's usually measured in % volume or alcohol by volume (ABV).\n",
    "\n",
    "**quality:** A quality label in the range of 0 (very bad) to 10 (very excellent). It is the median of at least three evaluations made by wine experts."
   ]
  },
  {
   "cell_type": "code",
   "execution_count": 1,
   "id": "c695552d",
   "metadata": {
    "execution": {
     "iopub.execute_input": "2022-03-11T15:16:09.616952Z",
     "iopub.status.busy": "2022-03-11T15:16:09.615939Z",
     "iopub.status.idle": "2022-03-11T15:16:11.215067Z",
     "shell.execute_reply": "2022-03-11T15:16:11.215584Z",
     "shell.execute_reply.started": "2022-03-11T15:15:46.003675Z"
    },
    "papermill": {
     "duration": 1.638923,
     "end_time": "2022-03-11T15:16:11.215860",
     "exception": false,
     "start_time": "2022-03-11T15:16:09.576937",
     "status": "completed"
    },
    "tags": []
   },
   "outputs": [
    {
     "name": "stdout",
     "output_type": "stream",
     "text": [
      "['red-wine-quality-cortez-et-al-2009']\n"
     ]
    }
   ],
   "source": [
    "import numpy as np\n",
    "import pandas as pd\n",
    "import seaborn as sns\n",
    "import matplotlib.pyplot as plt\n",
    "from sklearn.preprocessing import StandardScaler, RobustScaler\n",
    "from sklearn.model_selection import train_test_split\n",
    "from sklearn.model_selection import StratifiedKFold\n",
    "from sklearn.model_selection import cross_val_score\n",
    "from sklearn.linear_model import LogisticRegression\n",
    "from sklearn.naive_bayes import GaussianNB\n",
    "from sklearn.neighbors import KNeighborsClassifier\n",
    "from sklearn.tree import DecisionTreeClassifier\n",
    "from sklearn.svm import SVC\n",
    "from sklearn.discriminant_analysis import LinearDiscriminantAnalysis\n",
    "from sklearn.metrics import accuracy_score, confusion_matrix,classification_report\n",
    "import imblearn\n",
    "from imblearn.over_sampling import SMOTE\n",
    "import os\n",
    "import warnings\n",
    "warnings.filterwarnings(\"ignore\")\n",
    "print(os.listdir(\"../input\"))"
   ]
  },
  {
   "cell_type": "code",
   "execution_count": 2,
   "id": "5ecc98a1",
   "metadata": {
    "execution": {
     "iopub.execute_input": "2022-03-11T15:16:11.276187Z",
     "iopub.status.busy": "2022-03-11T15:16:11.275564Z",
     "iopub.status.idle": "2022-03-11T15:16:11.319530Z",
     "shell.execute_reply": "2022-03-11T15:16:11.318924Z",
     "shell.execute_reply.started": "2022-03-11T15:15:46.030091Z"
    },
    "papermill": {
     "duration": 0.07634,
     "end_time": "2022-03-11T15:16:11.319671",
     "exception": false,
     "start_time": "2022-03-11T15:16:11.243331",
     "status": "completed"
    },
    "tags": []
   },
   "outputs": [
    {
     "data": {
      "text/html": [
       "<div>\n",
       "<style scoped>\n",
       "    .dataframe tbody tr th:only-of-type {\n",
       "        vertical-align: middle;\n",
       "    }\n",
       "\n",
       "    .dataframe tbody tr th {\n",
       "        vertical-align: top;\n",
       "    }\n",
       "\n",
       "    .dataframe thead th {\n",
       "        text-align: right;\n",
       "    }\n",
       "</style>\n",
       "<table border=\"1\" class=\"dataframe\">\n",
       "  <thead>\n",
       "    <tr style=\"text-align: right;\">\n",
       "      <th></th>\n",
       "      <th>fixed acidity</th>\n",
       "      <th>volatile acidity</th>\n",
       "      <th>citric acid</th>\n",
       "      <th>residual sugar</th>\n",
       "      <th>chlorides</th>\n",
       "      <th>free sulfur dioxide</th>\n",
       "      <th>total sulfur dioxide</th>\n",
       "      <th>density</th>\n",
       "      <th>pH</th>\n",
       "      <th>sulphates</th>\n",
       "      <th>alcohol</th>\n",
       "      <th>quality</th>\n",
       "    </tr>\n",
       "  </thead>\n",
       "  <tbody>\n",
       "    <tr>\n",
       "      <th>0</th>\n",
       "      <td>7.4</td>\n",
       "      <td>0.70</td>\n",
       "      <td>0.00</td>\n",
       "      <td>1.9</td>\n",
       "      <td>0.076</td>\n",
       "      <td>11.0</td>\n",
       "      <td>34.0</td>\n",
       "      <td>0.9978</td>\n",
       "      <td>3.51</td>\n",
       "      <td>0.56</td>\n",
       "      <td>9.4</td>\n",
       "      <td>5</td>\n",
       "    </tr>\n",
       "    <tr>\n",
       "      <th>1</th>\n",
       "      <td>7.8</td>\n",
       "      <td>0.88</td>\n",
       "      <td>0.00</td>\n",
       "      <td>2.6</td>\n",
       "      <td>0.098</td>\n",
       "      <td>25.0</td>\n",
       "      <td>67.0</td>\n",
       "      <td>0.9968</td>\n",
       "      <td>3.20</td>\n",
       "      <td>0.68</td>\n",
       "      <td>9.8</td>\n",
       "      <td>5</td>\n",
       "    </tr>\n",
       "    <tr>\n",
       "      <th>2</th>\n",
       "      <td>7.8</td>\n",
       "      <td>0.76</td>\n",
       "      <td>0.04</td>\n",
       "      <td>2.3</td>\n",
       "      <td>0.092</td>\n",
       "      <td>15.0</td>\n",
       "      <td>54.0</td>\n",
       "      <td>0.9970</td>\n",
       "      <td>3.26</td>\n",
       "      <td>0.65</td>\n",
       "      <td>9.8</td>\n",
       "      <td>5</td>\n",
       "    </tr>\n",
       "    <tr>\n",
       "      <th>3</th>\n",
       "      <td>11.2</td>\n",
       "      <td>0.28</td>\n",
       "      <td>0.56</td>\n",
       "      <td>1.9</td>\n",
       "      <td>0.075</td>\n",
       "      <td>17.0</td>\n",
       "      <td>60.0</td>\n",
       "      <td>0.9980</td>\n",
       "      <td>3.16</td>\n",
       "      <td>0.58</td>\n",
       "      <td>9.8</td>\n",
       "      <td>6</td>\n",
       "    </tr>\n",
       "    <tr>\n",
       "      <th>4</th>\n",
       "      <td>7.4</td>\n",
       "      <td>0.70</td>\n",
       "      <td>0.00</td>\n",
       "      <td>1.9</td>\n",
       "      <td>0.076</td>\n",
       "      <td>11.0</td>\n",
       "      <td>34.0</td>\n",
       "      <td>0.9978</td>\n",
       "      <td>3.51</td>\n",
       "      <td>0.56</td>\n",
       "      <td>9.4</td>\n",
       "      <td>5</td>\n",
       "    </tr>\n",
       "  </tbody>\n",
       "</table>\n",
       "</div>"
      ],
      "text/plain": [
       "   fixed acidity  volatile acidity  citric acid  residual sugar  chlorides  \\\n",
       "0            7.4              0.70         0.00             1.9      0.076   \n",
       "1            7.8              0.88         0.00             2.6      0.098   \n",
       "2            7.8              0.76         0.04             2.3      0.092   \n",
       "3           11.2              0.28         0.56             1.9      0.075   \n",
       "4            7.4              0.70         0.00             1.9      0.076   \n",
       "\n",
       "   free sulfur dioxide  total sulfur dioxide  density    pH  sulphates  \\\n",
       "0                 11.0                  34.0   0.9978  3.51       0.56   \n",
       "1                 25.0                  67.0   0.9968  3.20       0.68   \n",
       "2                 15.0                  54.0   0.9970  3.26       0.65   \n",
       "3                 17.0                  60.0   0.9980  3.16       0.58   \n",
       "4                 11.0                  34.0   0.9978  3.51       0.56   \n",
       "\n",
       "   alcohol  quality  \n",
       "0      9.4        5  \n",
       "1      9.8        5  \n",
       "2      9.8        5  \n",
       "3      9.8        6  \n",
       "4      9.4        5  "
      ]
     },
     "execution_count": 2,
     "metadata": {},
     "output_type": "execute_result"
    }
   ],
   "source": [
    "df = pd.read_csv(\"../input/red-wine-quality-cortez-et-al-2009/winequality-red.csv\")\n",
    "df.head()"
   ]
  },
  {
   "cell_type": "code",
   "execution_count": 3,
   "id": "d090d08c",
   "metadata": {
    "execution": {
     "iopub.execute_input": "2022-03-11T15:16:11.387494Z",
     "iopub.status.busy": "2022-03-11T15:16:11.386810Z",
     "iopub.status.idle": "2022-03-11T15:16:11.397956Z",
     "shell.execute_reply": "2022-03-11T15:16:11.397439Z",
     "shell.execute_reply.started": "2022-03-11T15:15:46.062016Z"
    },
    "papermill": {
     "duration": 0.051488,
     "end_time": "2022-03-11T15:16:11.398105",
     "exception": false,
     "start_time": "2022-03-11T15:16:11.346617",
     "status": "completed"
    },
    "tags": []
   },
   "outputs": [
    {
     "name": "stdout",
     "output_type": "stream",
     "text": [
      "Observations: 1599\n",
      "Variables: 12\n",
      "cat_cols: 1\n",
      "num_cols: 11\n",
      "cat_but_car: 0\n",
      "num_but_cat: 1\n"
     ]
    }
   ],
   "source": [
    "def grab_col_names(dataframe, cat_th=10, car_th=20):\n",
    "    # cat_cols, cat_but_car\n",
    "    cat_cols = [col for col in dataframe.columns if dataframe[col].dtypes == \"O\"]\n",
    "    num_but_cat = [col for col in dataframe.columns if dataframe[col].nunique() < cat_th and\n",
    "                   dataframe[col].dtypes != \"O\"]\n",
    "    cat_but_car = [col for col in dataframe.columns if dataframe[col].nunique() > car_th and\n",
    "                   dataframe[col].dtypes == \"O\"]\n",
    "    cat_cols = cat_cols + num_but_cat\n",
    "    cat_cols = [col for col in cat_cols if col not in cat_but_car]\n",
    "\n",
    "    # num_cols\n",
    "    num_cols = [col for col in dataframe.columns if dataframe[col].dtypes != \"O\"]\n",
    "    num_cols = [col for col in num_cols if col not in num_but_cat]\n",
    "\n",
    "    print(f\"Observations: {dataframe.shape[0]}\")\n",
    "    print(f\"Variables: {dataframe.shape[1]}\")\n",
    "    print(f'cat_cols: {len(cat_cols)}')\n",
    "    print(f'num_cols: {len(num_cols)}')\n",
    "    print(f'cat_but_car: {len(cat_but_car)}')\n",
    "    print(f'num_but_cat: {len(num_but_cat)}')\n",
    "\n",
    "    return cat_cols, num_cols, cat_but_car\n",
    "cat_cols, num_cols, cat_but_car = grab_col_names(df)"
   ]
  },
  {
   "cell_type": "code",
   "execution_count": 4,
   "id": "79fa2f3d",
   "metadata": {
    "execution": {
     "iopub.execute_input": "2022-03-11T15:16:11.456301Z",
     "iopub.status.busy": "2022-03-11T15:16:11.455632Z",
     "iopub.status.idle": "2022-03-11T15:16:11.470975Z",
     "shell.execute_reply": "2022-03-11T15:16:11.471476Z",
     "shell.execute_reply.started": "2022-03-11T15:15:46.206767Z"
    },
    "papermill": {
     "duration": 0.046212,
     "end_time": "2022-03-11T15:16:11.471653",
     "exception": false,
     "start_time": "2022-03-11T15:16:11.425441",
     "status": "completed"
    },
    "tags": []
   },
   "outputs": [
    {
     "data": {
      "text/plain": [
       "<bound method DataFrame.info of       fixed acidity  volatile acidity  citric acid  residual sugar  chlorides  \\\n",
       "0               7.4             0.700         0.00             1.9      0.076   \n",
       "1               7.8             0.880         0.00             2.6      0.098   \n",
       "2               7.8             0.760         0.04             2.3      0.092   \n",
       "3              11.2             0.280         0.56             1.9      0.075   \n",
       "4               7.4             0.700         0.00             1.9      0.076   \n",
       "...             ...               ...          ...             ...        ...   \n",
       "1594            6.2             0.600         0.08             2.0      0.090   \n",
       "1595            5.9             0.550         0.10             2.2      0.062   \n",
       "1596            6.3             0.510         0.13             2.3      0.076   \n",
       "1597            5.9             0.645         0.12             2.0      0.075   \n",
       "1598            6.0             0.310         0.47             3.6      0.067   \n",
       "\n",
       "      free sulfur dioxide  total sulfur dioxide  density    pH  sulphates  \\\n",
       "0                    11.0                  34.0  0.99780  3.51       0.56   \n",
       "1                    25.0                  67.0  0.99680  3.20       0.68   \n",
       "2                    15.0                  54.0  0.99700  3.26       0.65   \n",
       "3                    17.0                  60.0  0.99800  3.16       0.58   \n",
       "4                    11.0                  34.0  0.99780  3.51       0.56   \n",
       "...                   ...                   ...      ...   ...        ...   \n",
       "1594                 32.0                  44.0  0.99490  3.45       0.58   \n",
       "1595                 39.0                  51.0  0.99512  3.52       0.76   \n",
       "1596                 29.0                  40.0  0.99574  3.42       0.75   \n",
       "1597                 32.0                  44.0  0.99547  3.57       0.71   \n",
       "1598                 18.0                  42.0  0.99549  3.39       0.66   \n",
       "\n",
       "      alcohol  quality  \n",
       "0         9.4        5  \n",
       "1         9.8        5  \n",
       "2         9.8        5  \n",
       "3         9.8        6  \n",
       "4         9.4        5  \n",
       "...       ...      ...  \n",
       "1594     10.5        5  \n",
       "1595     11.2        6  \n",
       "1596     11.0        6  \n",
       "1597     10.2        5  \n",
       "1598     11.0        6  \n",
       "\n",
       "[1599 rows x 12 columns]>"
      ]
     },
     "execution_count": 4,
     "metadata": {},
     "output_type": "execute_result"
    }
   ],
   "source": [
    "df.info"
   ]
  },
  {
   "cell_type": "code",
   "execution_count": 5,
   "id": "c49c453f",
   "metadata": {
    "execution": {
     "iopub.execute_input": "2022-03-11T15:16:11.529832Z",
     "iopub.status.busy": "2022-03-11T15:16:11.529183Z",
     "iopub.status.idle": "2022-03-11T15:16:11.535174Z",
     "shell.execute_reply": "2022-03-11T15:16:11.534659Z",
     "shell.execute_reply.started": "2022-03-11T15:15:46.228356Z"
    },
    "papermill": {
     "duration": 0.036228,
     "end_time": "2022-03-11T15:16:11.535346",
     "exception": false,
     "start_time": "2022-03-11T15:16:11.499118",
     "status": "completed"
    },
    "tags": []
   },
   "outputs": [
    {
     "name": "stdout",
     "output_type": "stream",
     "text": [
      "Quality Points: [5 6 7 4 8 3]\n"
     ]
    }
   ],
   "source": [
    "print(\"Quality Points:\",df['quality'].unique())"
   ]
  },
  {
   "cell_type": "code",
   "execution_count": 6,
   "id": "6a378db0",
   "metadata": {
    "execution": {
     "iopub.execute_input": "2022-03-11T15:16:11.594916Z",
     "iopub.status.busy": "2022-03-11T15:16:11.593847Z",
     "iopub.status.idle": "2022-03-11T15:16:11.602659Z",
     "shell.execute_reply": "2022-03-11T15:16:11.602071Z",
     "shell.execute_reply.started": "2022-03-11T15:15:46.235438Z"
    },
    "papermill": {
     "duration": 0.039608,
     "end_time": "2022-03-11T15:16:11.602802",
     "exception": false,
     "start_time": "2022-03-11T15:16:11.563194",
     "status": "completed"
    },
    "tags": []
   },
   "outputs": [
    {
     "name": "stdout",
     "output_type": "stream",
     "text": [
      "5    681\n",
      "6    638\n",
      "7    199\n",
      "4     53\n",
      "8     18\n",
      "3     10\n",
      "Name: quality, dtype: int64\n"
     ]
    }
   ],
   "source": [
    "print(df['quality'].value_counts())"
   ]
  },
  {
   "cell_type": "code",
   "execution_count": 7,
   "id": "69305f1a",
   "metadata": {
    "execution": {
     "iopub.execute_input": "2022-03-11T15:16:11.667928Z",
     "iopub.status.busy": "2022-03-11T15:16:11.667130Z",
     "iopub.status.idle": "2022-03-11T15:16:11.867650Z",
     "shell.execute_reply": "2022-03-11T15:16:11.866995Z",
     "shell.execute_reply.started": "2022-03-11T15:15:46.251077Z"
    },
    "papermill": {
     "duration": 0.236084,
     "end_time": "2022-03-11T15:16:11.867796",
     "exception": false,
     "start_time": "2022-03-11T15:16:11.631712",
     "status": "completed"
    },
    "tags": []
   },
   "outputs": [
    {
     "data": {
      "text/plain": [
       "<AxesSubplot:ylabel='quality'>"
      ]
     },
     "execution_count": 7,
     "metadata": {},
     "output_type": "execute_result"
    },
    {
     "data": {
      "image/png": "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\n",
      "text/plain": [
       "<Figure size 720x720 with 1 Axes>"
      ]
     },
     "metadata": {},
     "output_type": "display_data"
    }
   ],
   "source": [
    "plt.figure(1, figsize=(10,10))\n",
    "df['quality'].value_counts().plot.pie(autopct=\"%1.2f%%\")"
   ]
  },
  {
   "cell_type": "code",
   "execution_count": 8,
   "id": "ddbed06a",
   "metadata": {
    "execution": {
     "iopub.execute_input": "2022-03-11T15:16:11.964720Z",
     "iopub.status.busy": "2022-03-11T15:16:11.961179Z",
     "iopub.status.idle": "2022-03-11T15:16:12.125485Z",
     "shell.execute_reply": "2022-03-11T15:16:12.126006Z",
     "shell.execute_reply.started": "2022-03-11T15:15:46.399083Z"
    },
    "papermill": {
     "duration": 0.228334,
     "end_time": "2022-03-11T15:16:12.126181",
     "exception": false,
     "start_time": "2022-03-11T15:16:11.897847",
     "status": "completed"
    },
    "tags": []
   },
   "outputs": [
    {
     "data": {
      "image/png": "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\n",
      "text/plain": [
       "<Figure size 720x720 with 1 Axes>"
      ]
     },
     "metadata": {},
     "output_type": "display_data"
    }
   ],
   "source": [
    "quality = df[\"quality\"].value_counts().sort_index(ascending=True)\n",
    "explode_list = [0.1, 0.1, 0, 0, 0, 0.1]\n",
    "ax = quality.plot(kind='pie',\n",
    "             figsize = (10,10),\n",
    "             autopct='%1.1f%%', \n",
    "             startangle=45,\n",
    "             labels=None,         \n",
    "             pctdistance=1.1,    \n",
    "             explode=explode_list,\n",
    "             textprops={'fontsize': 14})\n",
    "ax.patch.set_facecolor('white')\n",
    "plt.title('Wine Quality', size = 20)\n",
    "ax.set(ylabel=None)\n",
    "plt.axis('equal') \n",
    "plt.legend(labels=quality.index, loc=\"upper left\", fontsize=16);"
   ]
  },
  {
   "cell_type": "code",
   "execution_count": 9,
   "id": "559532f0",
   "metadata": {
    "execution": {
     "iopub.execute_input": "2022-03-11T15:16:12.192075Z",
     "iopub.status.busy": "2022-03-11T15:16:12.191445Z",
     "iopub.status.idle": "2022-03-11T15:16:12.545244Z",
     "shell.execute_reply": "2022-03-11T15:16:12.544651Z",
     "shell.execute_reply.started": "2022-03-11T15:15:46.586445Z"
    },
    "papermill": {
     "duration": 0.387819,
     "end_time": "2022-03-11T15:16:12.545390",
     "exception": false,
     "start_time": "2022-03-11T15:16:12.157571",
     "status": "completed"
    },
    "tags": []
   },
   "outputs": [
    {
     "data": {
      "image/png": "iVBORw0KGgoAAAANSUhEUgAAA3sAAAJiCAYAAAB+Y9sEAAAAOXRFWHRTb2Z0d2FyZQBNYXRwbG90bGliIHZlcnNpb24zLjUuMCwgaHR0cHM6Ly9tYXRwbG90bGliLm9yZy8/fFQqAAAACXBIWXMAAAsTAAALEwEAmpwYAABskUlEQVR4nO3dd3hcV53/8c93ZtR7tWXJlnu3U+zY6ZVACiQBEghJIKElYQmw7C67lN9CKLt0lhZYQggBQkggEAhLQhrpxYntFPduy3JVsXrXnN8fd+QoimRLskZ3yvv1PPOM5s4t37kj2fOZc+455pwTAAAAACCxBPwuAAAAAAAw9gh7AAAAAJCACHsAAAAAkIAIewAAAACQgAh7AAAAAJCACHsAAAAAkIAIewBijpk9YWa+zQtjZneYmTOzqf2WTY0su8OvuiJ1+HpuxoqZzTKz+8xsf+S8NkTpODdH9n92NPY/xDGj/h4lyu8Bjs7Mzo78Dt/sdy0A4g9hD0BURD6c9L91mlmNma02s9vM7EIzC0bp2DvNbGc09h1tgwXNRBN53/8s6SJJ/yfpy5K+McJ9fKHf79acsa8yMZlZkZn9p5k9Z2a1ZtZtZnVm9rSZfd7MJvhdo9/GO0jHyhdJABJTyO8CACS8L0fug5LyJS2Q9H5JH5a00syuds5tHrDNByRljluFb/Y5eeFjj481DMXvczMWpkmaL+nnzrnrR7qxmZmkj0hykkzSRyX925hWmIDM7O2S7pSUJ2mrpPskHYw8Xi7pa5I+b2YznXP7fSsUA70oaZ6kWr8LARB/CHsAoso5d/PAZZHWgx9JukLSo2a21Dl3sN82VeNX4Zs55/ZJ2udnDUPx+9yMkUmR+72j3P6tkqZKukPSBZKuNbPPO+e6jr20xGRmZ8kLdz2SPijpV845N2CdRZJ+ICl9/CvEUJxzbZI2+l0HgPhEN04A4845d0DSlZKekDRZ0uf7Pz9YNyrzXBvpflZjZh1mttvMHjKz90bWOTuyXaWkygHdSO/oty8XOcbESJfSPWbWa2bXRZ4/YldKM5trZn82s3ozazWzZ8zsrYOsN+T1YoN13YrUfm3k4Y5+te880rmJLA+Y2Y1m9pKZtUTqesnMPmZmb/q3vt85KDazW81sX6Sr7Toz++Bgr/tIzGyJmf3RzA5G9rPLzH5iZmUDjyvpycjDL/V7jTeP4HAfjdz/XNJvJRVLeucoap5rZrdHuv12Rmp/2sw+Nsi655nZ3yPveaeZbTazb5hZ3hH2H4p0jdwS2Wa3mX3TzFKHWH/Exxjm6wxI+pm8L3g/5Zy7Y2DQkyTn3BpJb9GAFu3hvreRdQ//7ZjZDWa2JvK3eiDyezboazGzCjP7YeRctUfOwYtm9p9DrPtjM9seqafOzO43s5MGWffw36CZXR7ZZ1tk/3ebWXm/dadGfj/Pijzu/+/HE/3W2xm55ZrZ9yI/d/f9DpvZJDP7opk9a941qV1mttfM7jKz+QPrk7Qj8vDaAce8LrLOkNfsmXft66/N+zes7zi/NrNZx3IuACQOWvYA+MI5Fzazr0k6W9L7zOzTg30A7ee/5HWv3CHp95IaJZVJOkleC+E9knbK6zb6z5Ftvt9v+1cG7K9Q0guSWiT9SVJY0oFhlD5N0vOS1sj7AF0m6b2SHjSzq5xz9wxjH0P5sqTLJB0nr4WlIbK8YfDV3+A3kq6StFvSbfK6OL5T0k8knS7p6kG2yZf0rKQuSfdKSpN3Lm83s7Bz7lfDKdq87oF/lNel8l5JuyQtkfQxSZea2enOub4PtF+W1yp3rbzQ90Rk+RMaBvNahS+RtNk595yZNUn6V0nXy/sdGBYzu1jSH+S95r9L+p2883GcpH+X9NN+694Qedwa2eagvN/b/5D0DjM7zTnXMMhh7pJ0hqQHJTXJu0bx3yWVymtd61/PaI8xHGdJmiMvxP3iSCs658Ly/hb66hrJe9vftyS9TdJfJT0s6Rx5IX2mpHP7r2hmSyU9JO9v8il5f4+Z8rr63izpq/3WPTGyv8LINn+SF/Yvk/SMmb3TOffAIPX8k7zfm/vl/d4tl/d3e5yZHe+c65T3d/ZlSdfJ+8Loy/223zlgf6mS/hGp42F572/feThT0mclPS7v3LVImiXpckmXRN7LVyPrPiHv9+5Tkl6Vdy1rn1cGeR2HRcLto5JyIq9rvaS5kq6R9968xTn30ijPBYBE4Zzjxo0btzG/yQsb7ijrpEnqjqw7rd/yJwZuK6lOUrWkzEH2Uzzg8U5JO49Wm6RfSwoN8vwdkeen9ls2td923x6w/tLI6zgkKbff8psj6589yDH69nfH0Y494PnBzs37ItuslpTdb3mWpJWR564a4hzcJinYb/l8eV391g/zfc6OvDe9ks4Y8Nx/RI7x8IDlZ0eW3zyK36vPRrb9XL9lK+UFlJmDrP+m90BeOGiUF3LPGmSbin4/V0rqlPdhfu6A9X4S2fetg71HklZJKhzwfmyNnKuJY3GMYZ6z/4zs484RnuvRvLd9v79Vkqb0Wx6SF+ScpGX9lqfKC0lv+h0d5L0IRc5fx8D3TV7X4D3yul+nDfL+N0laNGCbuyLPvWck51bevy9OXtDKGuT5Ukk5gyw/Tl7we3DA8qka5N+CI/29yAvfGyLLrx6w/nsjyzdKChzLueDGjVv83+jGCcA3zvsGuS7ysGQYm3TL++A5cD+jGbigS9K/Oed6Rrhdo6SvDDj+SnndCfM1iu6EY+BDkfvPOuda+tXVKu9DueQNaDJQm6R/cc719ttmvbzWvnlmlj2MY18qr3XjHufc0wOe+668D8bnm9mU4byQIzE7PDBLWF5Q73OHXh+oZTiulZQr6afOuScHPumcq+738Bp5geTHzrmB1019QVKzpPebWdogx/kP51x9v/22yvs9Ccj7gmAsjjEcfd0tq4+41psdy3v7Fdfv+tLI39kvIw+X9VvvHfLCzv3OubsG7mTAe3GxpBmSfjTwfXPO7ZXXmjhR0nmD1PND53VT7e/ng9QzEv8aeU8H1nzQOdc8yPJX5bUGnmNmKaM8Zp9T5bXiPe+c++2A49wj6Rl5rbmnD7JtNM4FgBhF2APgN4vcH6kLp+R9SJ4qab2Zfd3MLjjGa5l2un6DwozA6sE+yOn1bognjL6kUTtRXgB6YpDnnpQXkAera4tzrmmQ5bsj9wXDPLbkfYh9g8gH/KciD8fivJwr78P+I865/teV3SUvvF83zA/RJ0fuHxzGukd6fYckvSxvQJO5g2y7cpBlg53bYzlGNB3Lezvc1z6S9+KUyH1l5PqzN9z0elCZdwz1DFeHpNeGetLMLjazv5p3LWx333V48sJtmrzW5WMx5HszYPmxvDcAEgDX7AHwjZmly2s5kKSao6z+aUnb5V3r9NnIrcfMHpD3DfvWER5+tEPLD3VdX9/+jmkwjVHKk1TvBhmN0jnXY2a18rqWDdQwxP76WjuHMw9i3+sdavTSvuX5w9jX0fRN03BH/4XOuXoz+6ukd8trjbr3KPvpq2U4U2uM+vW5wa+xG+zcRvsc9m0/0gE4jqWuhkGWDfba+7YdzntRFLm/4ijrDdYiPdx6huugc27QL6jM7FPyrhc+JOkReV1a2+R9oXWZvO6co22l7TMe7w2ABEDYA+Cn0+X9O3TAObfzSCtGuhp+X9L3zaw0su2V8j74LTCzBW5kAwscrSVxKENNOj0xct/Yb1nfQBeD/VubP8rjD6ZRUqGZpTjnuvs/YWYhea0Ig7XgjdWxpddf/0BlA9YbFTMrkfdBWZJ+Z2a/G2LV63X0sNcQuS+XN9DOkfR/fesGeX4sXl+0j/FM5P5sMwv277Y7groGMxavvSFyP5wg2necS51z9x/DMcfCUEEvJO/auP2STnTeNC79nz9lsO1GYVz+7gDEP7pxAvCFecPBfyHy8E3X6hxJ5JqYPznn3iOvu9IMSQv7rdKr6H1DfaKZ5Qyy/OzI/cv9lh2K3E8eZP2lgyyTXr8mcST1vyzv3/MzB3nuzMi+Vo9gfyPR93rPHvhE5IPvGZGHx3r8a+Vd17ZK3oiSg91qJL3FzKYdZV8vRO4vHMZxj/T68iUdL69L34Zh7MuvYzwpaZOkCg0YBXSQ4wX6dYUdj/d2JO9F37pnHHGtY9crSWY2mn9DiuV9kfPcIEEvW693v3zT8TTyv3lpkPcm4pzIfbT+7gHECcIegHEXaZm7W94HlSpJ/32U9dPM7LRBlqfo9W6gbf2eqpNUYmYZY1LwG+VJ+uKAOpbKm9qgUd7E1X1ejNx/MPLhuG/9yQP30U/fgDUjGdDk9sj9180ss99xMiV9I/LwiEPuH4M/S6qXN33GyQOe+2d5U1U86o59Mvi+wVf+yTn3kcFu8qbC6BvE5Uh+Ja+l82Nm9qaAbGYV/R7eKW9goE+Y2cwBq35V3kAvd46wVXmgqB7DedMp3CCvq94PzeyayGA3bxCZA+5hvd7K9mdF/739q7yBXi4xs/cNUlP/9+IvkrZJ+riZXTTYzszslP5/A6M0mr/BPgfl/Vu0pP8AR5F/q36gwa/VOySvpXAkx3tWXoA/3cwu7/9E5PEZkjbr9VZdAEmKbpwAoqrfRMABed94L5DXBTNVXhi6ehijaWbIm0Nrq7yWnV3yBqw4X95gDPc75/q3ejwmb/69v5vZU/KGtX/VOffXMXhJT0n6iJktl/eBq2+evYCkG/oPeOKcWxE5/pmSXjSzf8jrBvoOeXOEDdbi95ikz0j6uZn9Ud5IjA3OuR8PVZBz7i4zu1TSeyStM7M/6/Xrg6bJG03xt0Ntfyyccy1m9iF5c8M9aWZ/kBfgl0h6q7zubDccyzHMm5R+tqQ1zrkXj7DqL+S1Fn/QzL401EirzrlaM7tKXnfPx83sQXmDbeRKWizvfZkWWXenmf2zpFskrTaz38trQTxL3oAhG/X6iKejMk7HeNLM3iVvPsbfSPpP8yYKr5H3BcZSefOttUpqj2wT9ffWOddlZlfIC5l3ReYbfEHe3/c8eSNrhiLrdkdew0OS/mZmz8mbi65N3nt2kqTp8v4m2zR6j8nrHv6nyDXB7ZJ2Oed+M4zXEzazH8q7pniNmf1F3r9158j7Yupxvd7q1rdNi5mtkHSGmf1WXkjrlffv2qCDwDjnnJldK++awHsix9kobwTOy+T9u/GBSNAHkMz8nvuBGzduiXnT6/O49d06JdXKC2s/l3SB+s0BNWDbJ9RvnitJKfImo35Q3ofNDnkfUl+QdKOk1AHbZ8mboLpaXmvGG+awijx+4gi136Gh59m7Q96H0L/I+0a+TV7oe9sQ+8qPvN6DkXOwVt51ZVMH1tVvm3+R12WvM7LOzqHOTb/lAXmTJa+M1NQWOdcfH+w8H+kcDPb6h/F+nySvVbNG3siYVZH3YNIg656tEcyzJ28kVifpk8NY9+HIuu+MPL5ZQ891uEDeFA57IjUfkNfl8fpB1n1rZN+HIu/LVnlD/ecf7fd3wHPXReq5LlrHOMr5KZI3795z8lqwuuW13j0n6f9JKj3G93bI350jve/yWrV+Im/Ova5IbSskfX6QdUvltVivjfyet0jaIi+8X6N+c2ce5f2fqsHnugzK622wXa/PA/pEv+d36sjzeIbk/Q2vlxcU98sL2JVDnR95k83/NfK6w/1/R45y3uZE9r0vUus+eS3FcwZZd8Tnghs3bvF/M+dGO0YBAAAAACBWcc0eAAAAACQgwh4AAAAAJCDCHgAAAAAkIMIeAAAAACQgwh4AAAAAJKC4m2evuLjYTZ061e8yAAAAAMAXq1atqnXOlRxtvbgLe1OnTtXKlSv9LgMAAAAAfGFmu4azHt04AQAAACABEfYAAAAAIAER9gAAAAAgARH2AAAAACABEfYAAAAAIAER9gAAAAAgARH2AAAAACABEfYAAAAAIAER9gAAAAAgARH2AAAAACABRTXsmdkFZrbJzLaa2WeHWOc9ZrbezNaZ2V3RrAcAAAAAkkUoWjs2s6CkWySdL6la0ktmdr9zbn2/dWZJ+pyk05xzh8ysNFr1AAAAAEAyiWbL3jJJW51z251zXZLulnTpgHU+KukW59whSXLOHYxiPQAAAACQNKIZ9sol7e73uDqyrL/Zkmab2bNm9oKZXRDFegAAAAAgaUStG+cIjj9L0tmSKiQ9ZWaLnHMN/Vcys+slXS9JU6ZMGecSAQAAACD+RLNlb4+kyf0eV0SW9Vct6X7nXLdzboekzfLC3xs45251zi11zi0tKSmJWsEAAAAAkCiiGfZekjTLzKaZWaqkKyXdP2CdP8tr1ZOZFcvr1rk9ijUBAAAAQFKIWthzzvVIuknSQ5I2SPq9c26dmX3FzC6JrPaQpDozWy/pcUmfcc7VRasmAAAAAEgW5pzzu4YRWbp0qVu5cqXfZQAAAACAL8xslXNu6dHWi+qk6gAAAAAAfxD2AAAAACABEfYAAAAAIAER9gAAAAAgARH2AAAAACABhfwuAIB/7lpRFfVjXLV8StSPAQAAgDejZQ8AAAAAEhBhDwAAAAASEGEPAAAAABIQYQ8AAAAAEhBhDwAAAAASEGEPAAAAABIQYQ8AAAAAEhBhDwAAAAASEGEPAAAAABIQYQ8AAAAAEhBhDwAAAAASEGEPAAAAABIQYQ8AAAAAEhBhDwAAAAASEGEPAAAAABIQYQ8AAAAAEhBhDwAAAAASEGEPAAAAABIQYQ8AAAAAEhBhDwAAAAASEGEPAAAAABIQYQ8AAAAAEhBhDwAAAAASEGEPAAAAABIQYQ8AAAAAEhBhDwAAAAASEGEPAAAAABIQYQ8AAAAAEhBhDwAAAAASEGEPAAAAABIQYQ8AAAAAEhBhDwAAAAASEGEPAAAAABIQYQ8AAAAAEhBhDwAAAAASEGEPAAAAABIQYQ8AAAAAEhBhDwAAAAASEGEPAAAAABIQYQ8AAAAAEhBhDwAAAAASEGEPAAAAABIQYQ8AAAAAEhBhDwAAAAASEGEPAAAAABIQYQ8AAAAAEhBhDwAAAAASEGEPAAAAABIQYQ8AAAAAEhBhDwAAAAASEGEPAAAAABIQYQ8AAAAAEhBhDwAAAAASEGEPAAAAABIQYQ8AAAAAEhBhDwAAAAASEGEPAAAAABIQYQ8AAAAAEhBhDwAAAAASEGEPAAAAABIQYQ8AAAAAEhBhDwAAAAASEGEPAAAAABIQYQ8AAAAAEhBhDwAAAAASEGEPAAAAABIQYQ8AAAAAEhBhDwAAAAASEGEPAAAAABIQYQ8AAAAAEhBhDwAAAAASEGEPAAAAABIQYQ8AAAAAElBUw56ZXWBmm8xsq5l9dpDnrzOzGjN7JXL7SDTrAQAAAIBkEYrWjs0sKOkWSedLqpb0kpnd75xbP2DVe5xzN0WrDgAAAABIRtFs2VsmaatzbrtzrkvS3ZIujeLxAAAAAAAR0Qx75ZJ293tcHVk20LvN7DUzu9fMJkexHgAAAABIGn4P0PJXSVOdc4slPSLpV4OtZGbXm9lKM1tZU1MzrgUCAAAAQDyKZtjbI6l/S11FZNlhzrk651xn5OFtkpYMtiPn3K3OuaXOuaUlJSVRKRYAAAAAEkk0w95LkmaZ2TQzS5V0paT7+69gZmX9Hl4iaUMU6wEAAACApBG10Tidcz1mdpOkhyQFJd3unFtnZl+RtNI5d7+kT5rZJZJ6JNVLui5a9QAAAABAMola2JMk59wDkh4YsOyL/X7+nKTPRbMGAAAAAEhGfg/QAgAAAACIAsIeAAAAACQgwh4AAAAAJCDCHgAAAAAkoKgO0AIgtjV3dOu+l/eorrVL04qzNL04S9OKs5STnuJ3aQAAADhGhD0gSb24o14/fnyr2rt6Na04S6/ubtCLO+olSafOKNLFi8pkZj5XCQAAgNEi7AFJxjmnW5/arm89tEn5GSm67uypKsvLUG/YaW9Du17cWa/nttUpNz1FZ84u8btcAAAAjBJhD0gy3314s378+FZdtGiillYWKj0lKEkKBkyTCzNVXpChrp6w/r5uv/IzU7S4It/fggEAADAqDNACJJE9De269entuvT4SbrlqhMPB73+Ama6fEmFKosy9YdV1dpR2+pDpQAAADhWhD0giXz/kc2Skz7ztjlHvB4vJRjQ+0+uVEFmqu58YZfqWjrHsUoAAACMBcIekCQ2H2jWH1dX6/2nVKqiIPOo62emhnTdqVMVdk4PrN0/DhUCAABgLBH2gCTxrb9vUlZqSB8/Z+awtynMStWZs0u0YV+TqurozgkAABBPCHtAEli5s16PbjigG86arsKs1BFte+qMImWnhfT3dQfknItShQAAABhrhD0gwTnn9M2/b1RJTpo+dPq0EW+fFgrqnLml2lnXqi0HW6JQIQAAAKKBsAckuKe21OqlnYf0yfNmKTN1dLOtnDS1QAWZKXpo3X6Fad0DAACIC4Q9IMH9cVW18jNT9N6lk0e9j1AgoPPnT9C+xg6t2dM4htUBAAAgWgh7QALr6O7VYxsO6IIFE5UaOrY/98UV+ZqYm65H1h9Qb5jWPQAAgFhH2AMS2BObatTa1auLFpUd874CZjp//gTVt3bRugcAABAHCHtAAntgzT4VZKbolBlFY7K/ORNzVJiVqhU76sZkfwAAAIgewh6QoDq6e/XohgO6YOFEpQTH5k89YKbl0wq1q65N+5s6xmSfAAAAiA7CHpCgnthUo7Yx6sLZ34lTChQKmF6kdQ8AACCmEfaABPW3vi6c08emC2efrLSQFpbn6eWqBnX29I7pvgEAADB2CHtAAjo8CufCMoXGqAtnf8unFaqzJ6zXdjNQCwAAQKwi7AEJ6IlNB9XW1auLx7gLZ58phZmamJuuFTvq5JhkHQAAICYR9oAE9Lc1+1WYlaqTpxdGZf9mpmXTCrW3sUPVh9qjcgwAAAAcG8IekGBe78I5MSpdOPscPzlfqcGAVuyoj9oxAAAAMHqEPSDBPL+9Tm1dvbpgwcSoHic9JajjJ+frteoGdXQzUAsAAECsIewBCWbF9nqlBE0nTY1OF87+llQWqCfstG5vU9SPBQAAgJEh7AEJZsWOOi2uyFdGajDqx6ooyFBhVqperW6I+rEAAAAwMoQ9IIG0dfVoTXWjlk2Lfque5A3UclxFvrYdbFFzR/e4HBMAAADDQ9gDEsjqXQ3qCTstH6ewJ0nHVeTJSXqtmjn3AAAAYglhD0ggK3bUKWDS0nG4Xq9PaW66JuWl05UTAAAgxhD2gASyYke9FpbnKTstNK7HPW5yvqoPtauupXNcjwsAAIChEfaABNHR3atXdjeMaxfOPosr8mUSrXsAAAAxhLAHJIhXdjeoqyes5dOKxv3YeRkpmlqcpVd2N8o5N+7HBwAAwJsR9oAE8eKOeplpXObXG8zxFfmqbenUvsYOX44PAACANyLsAQlixY46zZ2Yq7zMFF+Ov6A8V0Ezvbq7wZfjAwAA4I0Ie0AC6OoJa9WuQ75cr9cnMzWk2ROy9dqeRoXpygkAAOA7wh6QANbsaVRHd9jXsCdJC8vz1NjerepD7b7WAQAAAGl8x2cHEBUrdtRJkpb5HPbmTvS6cq7b06gphZmSpLtWVI3Lsa9aPmVcjgMAABAvaNkDEsCK7fWaVZqtouw0X+vISA1qRmmW1u5lVE4AAAC/EfaAONcbdlq165DvrXp9Fk7K06G2bkblBAAA8BlhD4hz22pa1NLZoxOnFPhdiiRpXlmuAiat3dvodykAAABJjbAHxLm1e7xQtagiz+dKPFlpIU0rztK6PU1+lwIAAJDUCHtAnFu7p0npKQFNL87yu5TDFkzKU01Lpw400ZUTAADAL4Q9IM6t3duo+WW5CgVj5895waRcmejKCQAA4KfY+XQIYMTCYaf1e5u0sDw2unD2yUlP0ZSiTLpyAgAA+IiwB8SxnXWtauns0cJJsRX2JG9Uzv1NHapr6fS7FAAAgKRE2APi2Nq9XsvZgvJcnyt5swWTvJr6agQAAMD4IuwBcWzdnkalBgOaPSHH71LeJD8zVRUFGVrHdXsAAAC+IOwBcWzt3kbNLctRSgwNztLf/LJcVR9qV2N7t9+lAAAAJJ3Y/IQI4Kicc1q7p0kLYvB6vT7zI105N+yjKycAAMB4I+wBcaqvxWxhDF6v16c0J13F2Wlaz3V7AAAA446wB8SptXu8a+EWxdi0CwMtmJSr7bUtau/q9bsUAACApELYA+LU2r2NCgUsJgdn6W9+Wa7CTtq4n9Y9AACA8UTYA+LUmj1NmjUhR+kpQb9LOaLyggzlpoe0nuv2AAAAxhVhD4hDzjmt29OohZNi93q9PgEzzSvL1eYDzeruDftdDgAAQNIg7AFxaH9Th+pau7Qwxq/X6zN/Uq66e522HmzxuxQAAICkQdgD4tDaPV6XyHgJe9OLs5WeEmBUTgAAgHFE2APi0Jo9jQqYNK8stgdn6RMMmOZOzNWG/U3qDTu/ywEAAEgKhD0gDq3b06gZJdnKTA35XcqwzS/LVVtXr3bVt/pdCgAAQFIg7AFxaP2+Ji2Ig8FZ+ps1IVuhgNGVEwAAYJwQ9oA409jerX2NHZo9MT66cPZJCwU1szRb6/c1yTm6cgIAAEQbYQ+IM30jWs4uja+wJ3ldORvavLAKAACA6CLsAXFmy4FmSdLsCfEX9uaW5cokraMrJwAAQNQR9oA4s/lAizJSgqooyPC7lBHLTgupsihLG/YR9gAAAKKNsAfEmS0HmzWzNFuBgPldyqgsmJTrTQrf0ul3KQAAAAmNsAfEmc0HmjVrQrbfZYza/DJvFNH1tO4BAABEFWEPiCON7d060NQZl9fr9SnISlVZXjpTMAAAAEQZYQ+II68PzhK/LXuSNH9Srqrq29Tc0e13KQAAAAmLsAfEkc0HvGkXZsXhtAv9zS/LlZO0cV+z36UAAAAkLMIeEEc2H2hWRkpQ5fnxNxJnfxNz01WYlap1+xr9LgUAACBhEfaAOLL1YItmTYjfkTj7mJnml+VqW02rOrp7/S4HAAAgIRH2gDiy+UBz3Hfh7DO/LFe9YafNB+jKCQAAEA2EPSBONLZ162BzZ9wPztJnSlGmslKDTMEAAAAQJYQ9IE5sPtg3EmditOwFzDSvLFeb9jerpzfsdzkAAAAJh7AHxIm+7o7xPKH6QPMn5aqzJ6xtNa1+lwIAAJBwCHtAnNhyoEVZqfE/Emd/M0qylRoK0JUTAAAgCgh7QJzYfKBZMyfkyCy+R+LsLyUY0OwJOdqwr0lh5/wuBwAAIKFENeyZ2QVmtsnMtprZZ4+w3rvNzJnZ0mjWA8SzzQdaNLs0cbpw9llQlquWzh7trm/zuxQAAICEErWwZ2ZBSbdIulDSfEnvM7P5g6yXI+lTklZEqxYg3h1q7VJtS2dCXa/XZ87EHAXNtH4vXTkBAADGUjRb9pZJ2uqc2+6c65J0t6RLB1nvq5K+KakjirUAcW3LwRZJ0qwEGYmzv/SUoKaXZGndviY5unICAACMmWiGvXJJu/s9ro4sO8zMTpQ02Tn3tyjWAcS9vpE4E2XahYHmT8pVfWuXDjR3+l0KAABAwvBtgBYzC0j6nqR/Hca615vZSjNbWVNTE/3igBiz5UCzstNCmpSX7ncpUTGvLFcmaf3eRr9LAQAASBjRDHt7JE3u97gisqxPjqSFkp4ws52STpZ0/2CDtDjnbnXOLXXOLS0pKYliyUBs2lrTohml2Qk1Emd/uekpmlyYyRQMAAAAYyiaYe8lSbPMbJqZpUq6UtL9fU865xqdc8XOuanOuamSXpB0iXNuZRRrAuLSjppWzSjO8ruMqJpflqu9DR061NbldykAAAAJIWphzznXI+kmSQ9J2iDp9865dWb2FTO7JFrHBRJNW1eP9jZ2aFqCh70Fk3IlSev20JUTAABgLISiuXPn3AOSHhiw7ItDrHt2NGsB4tXOWm/+uekliTftQn9F2Wkqy0vX2r1NOn0W3bUBAACOlW8DtAAYnu213rQLid6yJ0kLy/NUVd+mxvZuv0sBAACIe4Q9IMbtqGmVlCRhb1KeJGkdo3ICAAAcM8IeEOO217ZqUl66MlKDfpcSdSU5aZqYm661XLcHAABwzAh7QIzbXtua8Nfr9begPFe76trU1EFXTgAAgGNB2ANimHNOO2pakqILZ5+Fk/LkJK3by5x7AAAAx4KwB8SwutYuNXX0JFXYm5CbrpKcNLpyAgAAHCPCHhDDdtR6g7NML0mesCdJi8rztLO2Vc105QQAABg1wh4Qw7bXeNMuTC9Onmv2pNe7cq7fR1dOAACA0SLsATFse22rUoMBlRdk+F3KuJqQm6bi7FS6cgIAABwDwh4Qw7bXtKqyKFPBgPldyrgyMy0sz9P2mla1dPb4XQ4AAEBcIuwBMWxHbWvSXa/XZ3F5vpxE6x4AAMAoEfaAGNUbdtpV16ppSXa9Xp8JuWkqzUnTa9WEPQAAgNEg7AExqvpQm7p7naYn0bQL/ZmZFlfkaVddqxrbGZUTAABgpAh7QIzanqTTLvTX15VzDV05AQAARizkdwEA3uyuFVV6dmutJGl1VYM2H2jxuSJ/FOekaVJ+ul6rbtDpM4v9LgcAACCu0LIHxKjalk5lpASVlRr0uxRfLS7PV/WhdtW3dvldCgAAQFwh7AExqqalU8XZqTJLrmkXBlpUkSdJeq26wd9CAAAA4gxhD4hRdS1dKs5O87sM3xVkpmpKYSajcgIAAIwQYQ+IQV09YTW2d6s4h7AnSYsr8rS/qUMHmjr8LgUAACBuEPaAGFTb0ilJtOxFLCrPk4lROQEAAEaCsAfEoNfDXqrPlcSGnPQUTSvJ0qu7G+Sc87scAACAuEDYA2JQbYs38mRRFi17fY6vyFdda5eqD7X7XQoAAEBcIOwBMai+tVO56SGlhvgT7bOwPE+hgOnl3Q1+lwIAABAX+CQJxKD61i4VZtGFs7/0lKDmleXqteoG9YbpygkAAHA0hD0gBnlhjy6cAx0/OV9tXb3acqDZ71IAAABiHmEPiDEd3b1q6uhRYVaK36XEnNkTcpSZGqQrJwAAwDAQ9oAYs7u+TZJo2RtEMGBaXJGnDfua1NHd63c5AAAAMY2wB8SYqkjYK+KavUGdMLlAPWGntcy5BwAAcESEPSDG7Krzwl4BYW9QFQUZKspK1St05QQAADgiwh4QY6rq25QWCigrNeh3KTHJzHT8lHztqG1VQ1uX3+UAAADELMIeEGOq6ttUmJUqM/O7lJh1fEW+nKRXad0DAAAYEmEPiDF9YQ9DK8pOU2VhplZXNcg55twDAAAYDGEPiCHhsPPCXiZh72iWVBaopqXz8OilAAAAeCPCHhBDDjZ3qqsnrMJswt7RLCrPU0rQtKrqkN+lAAAAxCTCHhBDdtW1ShIte8OQlhLUovJ8vVbdqK6esN/lAAAAxBzCHhBDqg5PqE7YG44llQXq7Alr7V7m3AMAABiIsAfEkKr6NgUDpnxa9oZlalGmirJStWoXXTkBAAAGIuwBMaSqvk2T8tMVDDDtwnCYmZZUFmhHbevhLrAAAADwEPaAGLKrrk1TCjP9LiOunDClQCbp3lXVfpcCAAAQUwh7QAzZXd+mKYVZfpcRV/IyUjRrQrbuXVWt3jBz7gEAAPQh7AExoqWzR3WtXbTsjcKSykLta+zQ01tq/C4FAAAgZhD2gBhRVeeNxFlZRNgbqXkTc1SYlaq7X9ztdykAAAAxg7AHxIiqem+AEVr2Ri4UDOiKJRV6ZMMBHWjq8LscAACAmEDYA2JE3xx7U2jZG5X3LZui3rDTPS/RugcAACAR9oCYsauuTfmZKcpNT/G7lLg0tThLZ8wq1u9erFJPb9jvcgAAAHxH2ANiRFV9myrpwnlMrl5eqX2NHXpiEwO1AAAAEPaAGFFV36bJhL1jct68Uk3ITdOdK3b5XQoAAIDvCHtADOjpDWvPoXZG4jxGKcGA3nvSFD25uUa7I9dAAgAAJCvCHhAD9jV2qCfsGIlzDFx50mSZpN+9WOV3KQAAAL4i7AEx4PBInIVZPlcS/yblZ+jcuRP0+5W71dXDQC0AACB5EfaAGLCrjmkXxtLVJ09RbUuXHly7z+9SAAAAfEPYA2JAVX2bUoMBTcxN97uUhHDWrBJNK87SL5/d6XcpAAAAviHsATGgqr5VFQUZCgbM71ISQiBguu7UqXpld4NWVx3yuxwAAABfEPaAGFBV30YXzjF2+ZIK5aSHdPszO/wuBQAAwBeEPcBnzjntqmtjJM4xlpUW0pUnTdaDa/drb0O73+UAAACMO8Ie4LPG9m41d/QQ9qLgA6dMlXNOv36eSdYBAEDyCfldAJDsDo/ESdgbc5MLM/W2BRP1uxer9KnzZikjNXjM+7xrxfjM33fV8injchwAAJC4aNkDfNY3x15lEXPsRcOHTp+mxvZu/enlar9LAQAAGFfDCntm9iczu9jMCIfAGOsLe5MLM3yuJDEtrSzQovI83f7MDoXDzu9yAAAAxs1ww9tPJF0laYuZfcPM5kSxJiCpVNW1qSQnTZmp9KqOBjPTh06fqm01rXp800G/ywEAABg3wwp7zrlHnXNXSzpR0k5Jj5rZc2b2QTNLiWaBQKLbVd/K9XpR9vbFk1Sen6FbHt8q52jdAwAAyWHY3TLNrEjSdZI+IullST+QF/4eiUplQJKoqmtTJWEvqlKCAd1w1nStrmrQih31fpcDAAAwLoZ7zd59kp6WlCnpHc65S5xz9zjnPiEpO5oFAomss6dX+5o6NJmwF3XvWTpZxdmp+skT2/wuBQAAYFwMt2Xv5865+c65rzvn9kmSmaVJknNuadSqAxJc9aF2OSdVFhH2oi09JagPnT5NT22u0ZrqRr/LAQAAiLrhhr2vDbLs+bEsBEhGfSNxcs3e+Ljm5ErlpIX00ye3+l0KAABA1B1x+D8zmyipXFKGmZ0gySJP5crr0gngGFT1TahOy964yE1P0QdOrdRPntimbTUtmlFCL3QAAJC4jtay9zZJ35FUIel7kr4buf2LpM9HtzQg8VXVtykjJaiS7DS/S0kaHzxtmlKDAf0v1+4BAIAEd8SWPefcryT9ysze7Zz74zjVBCSNXXVtmlKYKTM7+soYE8XZaXrfsim684VduuncmaosyvK7JAAAgKg4YsuemV0T+XGqmf3LwNs41AcktN31bYzE6YOPnT1DwYDpB49u8bsUAACAqDlaN86+r7yzJeUMcgMwSs45VdW3MRKnDybkpuu6U6fqvlf2aMuBZr/LAQAAiIqjdeP8WeT+y+NTDpA8alo61d7dy0icPrnxrBn67Yoqfe+RzfrpNUv8LgcAAGDMHTHs9TGzb8mbfqFd0t8lLZb0aefcnVGsDUhojMTpr4KsVH349Gn6wWNbtKa6UYsq8vwuyRd3ragal+NctXzKuBwHAAC8brjz7L3VOdck6e2SdkqaKekz0SoKSAbMsee/j5wxTfmZKfrOw5v8LgUAAGDMDTfs9bUAXizpD865xijVAySNXXVtMpMqCjL8LiVp5aSn6MazZujJzTV6aWe93+UAAACMqeGGvf8zs42Slkh6zMxKJHVErywg8e2ub1NZbrrSQkG/S0lq154yVSU5afrmgxvlnPO7HAAAgDEzrLDnnPuspFMlLXXOdUtqlXRpNAsDEt2u+jau14sBGalB/ev5s7Vy1yH932v7/C4HAABgzAy3ZU+S5kp6r5l9QNLlkt4anZKA5FBV38b1ejHiiqWTtWBSrr7+wAa1d/X6XQ4AAMCYGFbYM7PfSPqOpNMlnRS5LY1iXUBCa+vqUU1zpyqLso6+MqIuGDB96R0LtLexQ7c+td3vcgAAAMbEsKZekBfs5jsuaAHGxO76dknSZFr2YsayaYW6eHGZfvrkVl2xtEKT8hk4BwAAxLfhduNcK2niSHduZheY2SYz22pmnx3k+RvNbI2ZvWJmz5jZ/JEeA4hHu+paJUmVhL2Y8rkL58o56RsPbvS7FAAAgGM23LBXLGm9mT1kZvf33Y60gZkFJd0i6UJJ8yW9b5Awd5dzbpFz7nhJ35L0vZGVD8Qn5tiLTRUFmbrhrBm6/9W9TMUAAADi3nC7cd48in0vk7TVObddkszsbnkjeK7vWyEyUXufLEl0E0VSqKpvU056SPmZKX6XggFuPGu67l25W//vvrX66ydOV2poJONYAQAAxI7hTr3wpKSdklIiP78kafVRNiuXtLvf4+rIsjcws4+b2TZ5LXufHE49QLyrqm9TZVGmzMzvUjBAZmpIX3vnQm060KyfPLHV73IAAABGbbijcX5U0r2SfhZZVC7pz2NRgHPuFufcDEn/Ien/DXH8681spZmtrKmpGYvDAr6qqmPahVh27twJuuz4Sbrl8a3atL/Z73IAAABGZbj9kz4u6TRJTZLknNsiqfQo2+yRNLnf44rIsqHcLemywZ5wzt3qnFvqnFtaUlIyzJKB2NQbdqo+1K4phUy7EMu++I4Fyk1P0b/f+6p6w/QwBwAA8We4Ya/TOdfV98DMQjr69XUvSZplZtPMLFXSlZLeMKiLmc3q9/BiSVuGWQ8Qt/Y3dairN0zLXowrzErVzZcs0KvVjfrlszv8LgcAAGDEhhv2njSzz0vKMLPzJf1B0l+PtIFzrkfSTZIekrRB0u+dc+vM7CtmdklktZvMbJ2ZvSLpXyRdO5oXAcSTqjpvJM7KIsJerHv74jK9Zd4EfefhTdpZ2+p3OQAAACMy3LD3WUk1ktZIukHSAxri+rr+nHMPOOdmO+dmOOf+K7Lsi865+yM/f8o5t8A5d7xz7hzn3LrRvQwgflTVe6GBlr3YZ2b62mULlRoM6JN3v6yunrDfJQEAAAzbcEfjDMsbkOWfnHOXO+d+7pzjIhZgFKrq2xQKmMry0v0uBcMwMS9d37p8sV6rbtS3/s5k6wAAIH4cMeyZ52Yzq5W0SdImM6sxsy+OT3lA4tlV16byggyFgszfFi8uWFimD5xSqdue2aGN+5uOvgEAAEAMONqnzU/LG4XzJOdcoXOuUNJySaeZ2aejXh2QgHbXM+1CPPr8RfM0vyxX966qVmN7t9/lAAAAHFXoKM+/X9L5zrnavgXOue1mdo2khyX9TzSLA2LNXSuqjnkfmw+0aFFF3pjsC+MnPSWoH191gi74/tO656Xd+vDp0xQMmN9lAQAADOloLXsp/YNeH+dcjaSU6JQEJK72rl61d/eqKCvV71IwCtNLsnXp8ZO0s65VD67d53c5AAAAR3S0lr2uUT4HYBD1bd6fTUEmYS9enTClQHsb2vXstjoVZ6fp5OlFfpcEAAAwqKOFvePMbLDRCEwSQwkCI1Tf6oW9omzCXjy7cFGZalu69H+v7VVRdqpmleb4XRIAAMCbHLEbp3Mu6JzLHeSW45yjGycwQn1hr5CWvbgWMNOVJ01WaU66fvdilQ42dfhdEgAAwJsw9jswjupbu5SVGlRaStDvUnCM0lKCev8plQoFAvr1C7vU1MEInQAAILYQ9oBxVN/aqUIGZ0kYBZmpev/JlWrp7NEvntmhls4ev0sCAAA4jLAHjKP61i7CXoKZXJipa0+Zqoa2Lt3+zA61dRH4AABAbCDsAeOkN+zU2N5N2EtA04qz9P6Tp6q2pVO/fHanOrp7/S4JAACAsAeMl4a2LoWdVJiV5ncpiIKZpdm6avkU7W/s0O3P7lAbXToBAIDPCHvAODk8Eictewlr7sTcw4Hvf5/arkNtTEcKAAD8Q9gDxknfhOqEvcQ2ryxXHzxtmlo6u/W/T27TvsZ2v0sCAABJirAHjJP6li6FAqac9JDfpSDKphVn6fozZ8gk3frUdm2rafG7JAAAkIQIe8A4qW/rUkFWqgJmfpeCcTAxN103njVDeRkp+uWzO/T0lho55/wuCwAAJBHCHjBO6lu7VJhJF85kkp+ZqhvPmqF5Zbl6cO1+/e7FKnUyUicAABgnhD1gHDjnvLCXTdhLNukpQV21bIouXDhR6/c16SdPbNP+pg6/ywIAAEmAsAeMg9auXnX2hGnZS1JmpjNmlehDp09Te3evbnl8q57YdFC9Ybp1AgCA6CHsAePgUGTahSJG4kxq04uz9cnzZmleWa4eXn9AP3tqmw7QygcAAKKEsAeMg7pI2Csg7CW97LSQrlo2RVeeNFn1rV368eNb9fC6/VzLBwAAxhxjwAPjgAnVMdDiinxNL8nWA2v26YnNNVq165DOnz9BJ1YWMGIrAAAYE4Q9YBzUt3YpNz2klCCN6XhddlpI71k6WadML9Lf1uzTn17eo+e31+nsOaXqDTsFA4Q+AAAwenzyBMZBfWsXrXoY0uTCTN1w5nRdedJkdfWE9bsXq3Ted5/Qb1fsUgfdOwEAwCjRsgeMg/rWTs0szfa7DMQwM9PiinwtLM/Tur1NWre3UV+4b62++/BmvWNxmd51YoUWV+TJ6OIJAACGibAHRFl3b1hNHT207GFYAmZaVJ6n/37nQj2/rU6/XVGl3720W796fpeml2Tp7Ysn6cxZxTpucj7dggEAwBER9oAoO8TgLBgFM9OpM4t16sxiNbZ368HINX0//scW/fCxLcpOC+nk6UVaOrVACyblan5Zroqy0/wuGwAAxBDCHhBl9W19YY8P4hidvIwUXblsiq5cNkWNbd16blutnt5aq2e31urRDQcOrzchN03TirM0uSBTkwszNbkw4/DPJdlpCjDgCwAASYWwB0QZ0y5gLOVlpujCRWW6cFGZJKmhrUvr9zZp/b4mrd/bpF31bXpyc40ONne+YbvUUEAV+RmqKMzU5IIMTS7M1LTiLDW2dysvI8WPlwIAAKKMsAdEWX1rl1JDAWWlBv0uBQkoPzP1cHfP/jq6e1V9qF27D7Wp+lC7quvbtPtQm3bXt+u16gY1tHUfXjc3PaSKAi/8LSzPI/wBAJAgCHtAlNW3dqkwM5VRFDGu0lOCmlmaPeQosM0d3dpysEW3P7ND1YfaVVXfpvX7mvS3Nfs0pTBTC8vzdFxFnnLSCX4AAMQrwh4QZfWtXSpm4AzEmJz0FJ04pUAbZzQfXlbb3Kk1exu1dk+jHlizT4+s369lUwt1xuwS5RL6AACIO4Q9IIrCzqm+tUuzJ+T4XQpwVMU5aTpnTqnOmVOqg00dempLjZ7fXqcVO+q1dGqhzp1bquw0/tsAACBe8L82EEUtHT3qCTsGZ0HcKc1N1+VLJuucOaV6cnONXtxRpzXVDbrshHItmJTnd3kAAGAYmJEXiKI6RuJEnCvKTtO7TqzQTefOUl5Gin67okq/X7lb7V29fpcGAACOgrAHRFHfhOpFhD3EuYm56frY2TN17txSvVbdoB88tlm769v8LgsAABwBYQ+IorrWLpm8udGAeBcMmN4yb4I+dtZMBQOm257Zrg37mvwuCwAADIGwB0TRobYu5WemKBTgTw2Jo7wgQzeeNUOlOem684VdemF7nd8lAQCAQfAJFIiiupZOFdCFEwkoJz1FHz1juuZMzNH9r+7V39ful3PO77IAAEA/hD0giurburleDwkrNRTQ1csrtWxaoZ7aUqNHNhzwuyQAANAPUy8AUdLZ3avWzh4VZhL2kLiCAdOlx02Sc9ITm2qUkRLUGbNK/C4LAACIsAdETX1bZNqF7DSfKwGiy8x06fGT1NHdqwfX7ldGSlBLpxb6XRYAAEmPsAdESX3fHHu07CEJBMx0xdIKdfb06r6X9yg9JaiF5Uy+DgCAn7hmD4iSeiZUR5IJBQK6almlJhdm6vcrd2vPoXa/SwIAIKkR9oAoqW/tUkZKUBmpQb9LAcZNaiiga06uVHZaSHeu2KWWzh6/SwIAIGkR9oAoqW/tolUPSSk7LaSrT65Ua2ePfvdilXrDTMkAAIAfCHtAlBD2kMzK8zP0zhPKtaO2VX9fu8/vcgAASEqEPSAKesNOh9q6mGMPSe2EKQU6dUaRnt1Wp/terva7HAAAkg5hD4iCxvZuhZ1UlE3YQ3K7cGGZphZl6Qv3rdWO2la/ywEAIKkQ9oAoqGvplCQVZjHHHpJbMGB6z9IKpQQD+ue7X1Z3b9jvkgAASBqEPSAK6iLTLtCNE5DyM1P19Xct0qvVjfr+o5v9LgcAgKRB2AOioL61SylBU056yO9SgJhw0aIyvWdphX7yxDa9sL3O73IAAEgKhD0gCuoiI3Gamd+lADHjS+9YoMrCTP3LPa+osa3b73IAAEh4hD0gCupaOrleDxggKy2kH1x5gg42d+pL96/1uxwAABIeYQ8YY2HHtAvAUI6bnK+PnzNTf35lrx5df8DvcgAASGiEPWCMNXf0qLvXMaE6MISPnzNTcyfm6PP3raE7JwAAUUTYA8ZYfd9InMyxBwwqNRTQd644TnWtXfra39b7XQ4AAAmLsAeMsb459oq4Zg8Y0sLyPN141nT9YVW1nth00O9yAABISIQ9YIzVt3YpYFJeRorfpQAx7ZPnzdLM0mx97k9r1NxBd04AAMYak4ABY6yutUsFmakKBph2AaN314oqv0uIurRQUN++fLHe/dPn9J2HNunLly70uyQAABIKLXvAGKtv7eJ6PWCYTphSoA+cMlW/fmGXXt3d4Hc5AAAkFMIeMIacc6pr7WQkTmAE/vWts1Wak6bP37dGPb1hv8sBACBhEPaAMdTe1auO7jCDswAjkJOeoi+9Y4HW7W3Sr57f5Xc5AAAkDMIeMIbqItMu0LIHjMyFCyfq7Dkl+t7Dm7Svsd3vcgAASAiEPWAM9YW9IsIeMCJmpq9eulC9zunL9zP3HgAAY4HROIExVNfaKZNUQNgbd8kwemWim1yYqU+eN0vf+vsmPbbhgM6bN8HvkgAAiGu07AFjqL6lS7kZKUoJ8qcFjMZHz5iu2ROy9cW/rFNbV4/f5QAAENf4RAqMobrWLq7XA45BSjCg/3rnIu1paNcPHt3idzkAAMQ1wh4whupbu7heDzhGJ00t1HuXTtZtz+zQhn1NfpcDAEDcIuwBY6Szu1ctnT2EPWAMfPbCucrLSNEX7lujcNj5XQ4AAHGJsAeMkfq2yLQL2cyxBxyrgqxUfeGieVpd1aC7X9rtdzkAAMQlwh4wRupamHYBGEvvOrFcp0wv0jce3KCa5k6/ywEAIO4Q9oAxUs+E6sCYMjN97Z0L1d7dq68/sMHvcgAAiDuEPWCM1LV2KjM1qPSUoN+lAAljRkm2bjhzhv708h49v63O73IAAIgrhD1gjNS2dKmY6/WAMXfTuTM1pTBT/+/Pa9TVE/a7HAAA4gZhDxgjdS2dKs6mCycw1tJTgvrypQu0raZVP396u9/lAAAQNwh7wBjo7OlVU0cPLXtAlJwzp1QXLpyoHz62Rbvr2/wuBwCAuEDYA8bA4ZE4CXtA1HzxHfMVCpi++Je1co659wAAOJqohj0zu8DMNpnZVjP77CDP/4uZrTez18zsMTOrjGY9QLTURUbipBsnED1leRn69Pmz9fimGj20br/f5QAAEPOiFvbMLCjpFkkXSpov6X1mNn/Aai9LWuqcWyzpXknfilY9QDTVtnhzgBVl0bIHRNN1p07VvLJcffmv69Xa2eN3OQAAxLRotuwtk7TVObfdOdcl6W5Jl/ZfwTn3uHOu7+KLFyRVRLEeIGpqmzuVmx5Saoie0UA0hYIBfe2yhdrX2KHvP7rZ73IAAIhp0fxkWi5pd7/H1ZFlQ/mwpAejWA8QNXWtTLsAjJcllQV637LJuv3Zndqwr8nvcgAAiFkx0QxhZtdIWirp20M8f72ZrTSzlTU1NeNbHDAMtS2dDM4CjKP/uGCu8jJS9IX71igcZrAWAAAGE82wt0fS5H6PKyLL3sDM3iLpC5Iucc51DrYj59ytzrmlzrmlJSUlUSkWGK22rh61dfUyOAswjvIzU/X5i+ZpdVWD7lm5++gbAACQhKIZ9l6SNMvMpplZqqQrJd3ffwUzO0HSz+QFvYNRrAWImr5pF+jGCYyvd59YrmXTCvX1BzaopnnQ7woBAEhqUQt7zrkeSTdJekjSBkm/d86tM7OvmNklkdW+LSlb0h/M7BUzu3+I3QEx6/BInLTsAePKzPTf71ykju6wvvzXdX6XAwBAzAlFc+fOuQckPTBg2Rf7/fyWaB4fGA+1LV0ySYVZhD1gvM0szdZN587U9x7ZrHedeEDnzp3gd0kAAMSMmBigBYhntS2dKshKVSjAnxPghxvPmqHZE7L1/+5bqxbm3gMA4DA+nQLHqK61U0W06gG+SQ0F9PV3Lda+pg599+FNfpcDAEDMIOwBx8A5p9oW5tgD/LakskDXLK/UHc/t1MtVh/wuBwCAmEDYA45BS2ePunrCTLsAxIB/v2COJuam69/vfU2dPb1+lwMAgO8Ie8AxqI1Mu8CE6oD/ctJT9N/vWqQtB1v0o8e2+l0OAAC+I+wBx6AuMu0C3TiB2HDOnFJdvqRCP31ym9ZUN/pdDgAAviLsAcegtqVTwYApPzPF71IARPznxfNVnJ2qz9z7qrp6wn6XAwCAbwh7wDGobelSYVaqAmZ+lwIgIi8zRf/9zkXauL9ZP36c7pwAgORF2AOOQW1Lp4qZdgGIOefNm6B3nVCunzy+VWv30J0TAJCcCHvAKIWdU30r0y4AseqL75ivouxUffqeV9TRzeicAIDkQ9gDRqmxvVs9YcdInECMys9M1XeuOE5bDrbom3/f6Hc5AACMO8IeMEq1h0fipBsnEKvOmFWi606dql8+u1NPb6nxuxwAAMYVYQ8YpTrm2APiwmcvnKuZpdn6tz+8qoa2Lr/LAQBg3BD2gFGqae5Uaiig3PSQ36UAOIL0lKC+/97jVdfSpf/357VyzvldEgAA44JPqcAo1TR3qiQ7Tca0C0DMuGtF1ZDPnTu3VP/32j6lhQJaUll4TMe5avmUY9oeAIDxQMseMEo1LZ0qzaELJxAvzpxdouklWbr/1b060NThdzkAAEQdYQ8Yhc7uXjW2d6uEsAfEjYCZ3rN0slJDQf3uxSp19YT9LgkAgKgi7AGjUBMZiZOwB8SX3PQUvWdphWqaO/V/r+31uxwAAKKKsAeMQk1zJOwxEicQd2aV5uis2SVaueuQXt3d4Hc5AABEDWEPGIWa5k4FjGkXgHh13rwJqizM1H2v7OH6PQBAwiLsAaNwsLlThVlpCgYYiROIR8GA6cplU5QaDOjOF3apo7vX75IAABhzhD1gFGqaGYkTiHd5GSl637IpOtTWpd+v3K0w8+8BABIMYQ8Yod6wU11rJ4OzAAlgWnGWLl48SRv3N+vxjQf9LgcAgDFF2ANGqK61U2HHSJxAojh5WqFOnJKvxzYe1IZ9TX6XAwDAmCHsASNUy0icQEIxM116fLnK8zN0z8rd2tfY7ndJAACMiZDfBQDx5mAzc+wBiSYlGNA1J1fqp09s1a+f36WPnT1DuekpQ65/14qqqNd01fIpUT8GACCx0bIHjFBNc6dy00NKTwn6XQqAMZSXkaIPnDJV7V29+s3zu9TVE/a7JAAAjglhDxihmhYGZwES1aT8DL33pMna29DOCJ0AgLhH2ANGwDmnmuZOleSk+10KgCiZV5arixaVaf2+Jj24Zp8cgQ8AEKe4Zg8YgaaOHnX2hGnZAxLcqTOKVN/WpWe31Sk7PUVnzS7xuyQAAEaMsAeMQE1kcBYmVAcSm5np4kVlau3s0UPr9isrNailUwv9LgsAgBEh7AEjUNPcIYlpF4BkEDDT5Usq1N7Vq/te3qPM1KDmT8rzuywAAIaNa/aAEahp6VRaKKCcdL4nAZJBKBDQ1csrVVGQobtf2q1tNS1+lwQAwLDxiRUYgYPN3kicZuZ3KUBcGY956aIlNRTQtadM1a1Pb9evn9+p606dpmnFWX6XBQDAUdGyB4xAbXMn1+sBSSgzLaQPnz5NeRmp+tXzO1VV1+p3SQAAHBVhDximpo5uNXX0cL0ekKRy0lP0kdOnKSctpF8+t1PVh9r8LgkAgCMi7AHDtL3G+yafOfaA5JWbkaIPnz5NmalB3f7sDu051O53SQAADImwBwzT5v3NkqTSXFr2gGSWn5mqD58+XRkpQd32zHbtoksnACBGEfaAYdp0oFkpQVNhVqrfpQDwWWFWqj56xnRlp4X0y2d3ajujdAIAYhBhDximTfubVZqTrgAjcQKQ18L30TOnKz8zRXc8t1ObDzT7XRIAAG9A2AOGaeP+Zk3I5Xo9AK/LTU/RR86YrpKcNP3mhV1av7fJ75IAADiMsAcMQ11Lp2pbOjWR6/UADJCdFtJHTp+usrx03fXiLr1W3eB3SQAASCLsAcOyKdI9i5Y9AIPJSA3qQ6dN0+TCTN3z0m6trjrkd0kAABD2gOHoG4lzQh5hD8Dg0lOC+uCp0zS9JEv3rqrWih11fpcEAEhyhD1gGDYdaFZBZopy0kJ+lwIghqWGAvrAKVM1Z0KO/vLKXj29pcbvkgAASYywBwzDxv3Nmj0hR8ZInACOIiUY0NUnT9HC8jw9uHa/Ht1wQM45v8sCACQhwh5wFM45bd7frLkTc/wuBUCcCAUCuvKkyVpSWaB/bDyoB9bsI/ABAMYdfdKAo6g+1K7Wrl7NmZjrdykA4kjATO88oVxpoYCe3Vanzp6wLjuhnLk6AQDjhpY94Cg2RQZnmTMx2+dKAMSbgJkuXlSmc+aUauWuQ7rnpd3qDdPCBwAYH4Q94Cj6pl2YPYFunABGzsx0/vwJumDBRK3Z06jfrtil7t6w32UBAJIAYQ84ik37m1Wen6Gc9BS/SwEQx86cXaJLj5+kTfub9avndqqzu9fvkgAACY6wBxzFpv3NmsPgLADGwPJpRbpi6WTtrGvVL5/bqQ4CHwAgigh7wBF09YS1raaFsAdgzBw/OV9XnjRF1Yfa9MtndxD4AABRQ9gDjmBHbat6wo5pFwCMqYXlebpqWaX2NnTo9md3qL2LwAcAGHuEPeAIGJwFQLTMn5Srq5dP0b7GDv3i2e1q6+rxuyQAQIIh7AFHsGl/k0IB04wSpl0AMPbmluXqmuVTdLCpU794ZofaOgl8AICxQ9gDjmDT/mZNL8lSaog/FQDRMWdirq45uVI1zZ267ZkdaiHwAQDGCJ9ggSPYdKCZLpwAom72hBx94JSpqm3p1G1Pb1dzR7ffJQEAEgBhDxhCS2ePdte3MzgLgHExszRb1546VYfaunTbMztU09zpd0kAgDhH2AOGsGFfkyRpXlmuz5UASBYzSrzA19DWpWtuW6H61i6/SwIAxDHCHjCEtXsaJUmLyvN8rgRAMplenK0PnDJVO+tadc1tK9TQRuADAIwOYQ8Ywto9TSrJSVNpbrrfpQBIMjNKsnXrB5Zq68EWfeD2F9XENXwAgFEg7AFDWLe3UQsn0YUTgD/Oml2in15zojbsa9K1t7/IKJ0AgBEj7AGD6Oju1ZaDLVpIF04APjpv3gT96H0n6rXqRn3wly8y8ToAYEQIe8AgNu5vVm/YacEkwh4Af12wcKJ+cOXxWrXrkD58x0q1d/X6XRIAIE4Q9oBB9A3OsrCcbpwA/Pf2xZP0vfccrxd21On636xURzeBDwBwdIQ9YBDr9jYqPzNF5fkZfpcCAJKky04o1zffvVhPb6nVP/12tbp6wn6XBACIcYQ9YBBr9zRp4aQ8mZnfpQDAYe9ZOln/9c6F+sfGg7rprtXq7iXwAQCGRtgDBujqCWvT/mYtoAsngBh09fJK3fyO+Xp4/QH9892vqIfABwAYQsjvAoBYs/lAs7p6w1rI4CwAYtR1p01TT9jpa3/boJSg6bvvOV7BAD0RAABvRNgDBli3t29wFsIegNj1kTOmq7MnrG8/tEmhYEDfevdiBQh8AIB+CHvAAGv3NCk7LaTKwky/SwGAI/r4OTPV3RvW9x/dopRgQP/9zoVcawwAOIywBwywdm+jFkzK5RtyAHHhU+fNUldPWD95YptSg6abL1lA4AMASCLsAW/Q0xvWhn1Nunp5pd+lAMCwmJk+87Y56u4N6+dP71BKMKAvXDyPwAcAIOwB/W2vbVVHd5jJ1AHEFTPT5y+ap+5ep9ue2aFAwPS5C+cS+AAgyRH2gH7W7okMzsJInADijJnpS++Yr7BzuvWp7ers7tWX3rGALukAkMQIe0A/a/c0KT0loOkl2X6XAgAjZmb68iULlBYK6OdP71BnT1j/9c5FTMsAAEmKsAf0s3Zvo+aX5fLBCEDc6uvSmZ4S1I/+sdWbnuHyxQoFA36XBgAYZ4Q9IKI37LRuT6PevaTC71IA4JiYmf71rXOUFgroOw9vVnNHj370vhOUkRr0uzQAwDiK6td8ZnaBmW0ys61m9tlBnj/TzFabWY+ZXR7NWoCj2bS/Wa1dvTpxSoHfpQDAmLjp3Fn66qUL9NjGA7rmFyvU0Nbld0kAgHEUtbBnZkFJt0i6UNJ8Se8zs/kDVquSdJ2ku6JVBzBcq6sOSRJhD0BCef8pU/WTq07UmupGXf6/z2tvQ7vfJQEAxkk0W/aWSdrqnNvunOuSdLekS/uv4Jzb6Zx7TVI4inUAw7J61yEVZ6dqcmGG36UAwJi6cFGZfv3hZTrQ2KF3/eS5wyMPAwASWzTDXrmk3f0eV0eWATFpddUhnTilgHmpACSkk6cX6fc3nqKASZf/73P622v7/C4JABBlcTE0l5ldb2YrzWxlTU2N3+UgAdW1dGpnXZtOrKQLJ4DENa8sV3+56XQtmJSnj9+1Wt97ZLPCYed3WQCAKIlm2NsjaXK/xxWRZSPmnLvVObfUObe0pKRkTIoD+ltd1SCJ6/UAJL6SnDTd9dHlumJJhX742BZ97Ler1Nje7XdZAIAoiGbYe0nSLDObZmapkq6UdH8UjweM2uqqQwoFTIsr8vwuBQCiLi0U1LcuX6z/fPt8PbbhoC7+4dN6ZXeD32UBAMZY1MKec65H0k2SHpK0QdLvnXPrzOwrZnaJJJnZSWZWLekKST8zs3XRqgc4ktW7DmnBpFylpzAHFYDkYGb68OnT9PsbT5Fz0uU/fU4/f2o73ToBIIFE9Zo959wDzrnZzrkZzrn/iiz7onPu/sjPLznnKpxzWc65IufcgmjWAwymuzesV6sbdAJdOAEkoROnFOiBT56h8+aV6r8e2KAP3vES0zMAQIKIiwFagGjauK9ZHd1hLWFwFgBJKi8zRf97zRJ99bKFemlnvd76P0/ptyt20coHAHGOsIekd3gydcIegCRmZnr/yZV66J/P1HGT8/SF+9bqqtte0I7aVr9LAwCMEmEPSW/VrkOamJuuSXnpfpcCAL6bXJipOz+8XN941yKt29Okt/7Pk/r6AxvU3MGInQAQbwh7SHqrqw7pxMp8JlMHgAgz05XLpuixfztLlx1frp89tV3nfOcJ3fNSlXrp2gkAcYOwh6R2sKlD1YfamV8PAAZRmpOub19xnO6/6TRVFmXpP/64Rhd8/yk9sGYf1/MBQBwg7CGpcb0eABzd4op83XvjKfrxVSco7Jz+6berdfGPntHD6/YT+gAghhH2kNRWVzUoNRjQgkm5fpcCADHNzPT2xZP08KfP0v+89zi1d/Xo+t+s0lu//5TufrFKHd29fpcIABiAsIektnJnvRaW5yotxGTqADAcwYDpnSdU6NF/8UJfajCgz/5pjU77xj/0P49sVm1Lp98lAgAiQn4XAPiluaNbr1Y36sazpvtdCgD45q4VVce0/dXLp2h7baue3VqrHzy2Rbc8vlXHT87XaTOLNSH39VGOr1o+5VhLBQCMEGEPSevFHfXqDTudNqPY71IAIG6ZmWaUZGtGSbZqmjv17LZard51SCt3HdKs0mydMqNIsyfk+F0mACQlwh6S1rNb65QWCjA4CwCMkZKcNF12fLnOnzdBK3bUa8WOOv36+V0qzErVc9vqtGRKgTJSo9ttnhZEAHgdYQ9J67lttVo6tUDpKVyvBwBjKSstpHPnlurM2cVat7dJz2+r0wNr9unR9Qd0wpR8nTy96A1dPAEA0UHYQ1KqbenUxv3N+szb5vhdCgAM6livpYsFoUBAx1Xk67iKfO1paNfz2+q0atchrdhRrxklWTplerHmluUoYOZ3qQCQkAh7SErPb6uTJJ06o8jnSgAgOZTnZ+jyJRW6YOFErdxZrxU76nXnil0qyEzR8mlFWjq1QJmpfCwBgLHEv6pISs9tq1VOWkiLyvP8LgUAkkp2WkhnzynVGbNKtH6f18Xz7+v267GNB7SkskBnzCxRQVaq32UCQEIg7CEpPbu1TsunFykUZKpJAPBDMGBaVJ6nReV52tfYrue21umlHYf04o56La7I15mzSzSR6/oA4JgQ9pB0dte3qaq+TdedOtXvUgAAksryMvTuJRV6y/wJemZLjV7aeUiv7G7QovI8nTe3VKWEPgAYFcIekk7f9XqnzWR+PQCIJXkZKbp48SSdM6dUz2yr1XPb6rR2T6OOn5yvc+eWqig7ze8SASCuEPaQdJ7dVqvi7DTNnpDtdykAgEFkpoX01vkTddqMYj21pUYvbK/Tq9UNOnl6kc6dW3rEgVzGaxRT5vMDEA8Ie0gqzjk9t61Op84okjHUNwDEtKy0kC5cWKbTZhbrHxsO6vltdXq5qkHnzi3V8umFCgW47hoAjoR/JZFUthxsUU1zp06byZQLABAvctNTdNkJ5frEubNUXpChv63Zpx8+tkXbalr8Lg0AYhphD0nlua21kqRTZ3C9HgDEm4l56frgqVN17SmVCjvpF8/s0O9X7lZLZ4/fpQFATKIbJ5LK45tqVFmUqcmFmX6XAgAYBTPTnIm5ml6SrSc2HdRTm2u1cX+TLlpYpiWVBXTRB4B+aNlD0mju6NZz22p1/rwJfpcCADhGKcGAzp8/UZ84d6Ym5mboTy/v0a+f36Wmjm6/SwOAmEHYQ9J4cnONunud3rpgot+lAADGSGluuj5yxjS9fXGZttW06AePbtGr1Q1yzvldGgD4jrCHpPHI+gMqzErVksoCv0sBAIyhgJlOnVGsT5w7S8XZqbrnpd36/crd6uzu9bs0APAVYQ9Jobs3rH9sPKhz55YqGOB6DgBIRCU5abr+zBl6y7wJeq26UT9+fKv2NrT7XRYA+Iawh6SwYnu9mjt69Nb5XK8HAIksGDCdO7dUHzljurp7w/rpk9v0/LZaunUCSEqEPSSFR9bvV3pKQGfMKvG7FADAOJhWnKVPnDtLM0uy9dfX9umelbvV1RP2uywAGFeEPSQ855weWX9AZ8wqUUZq0O9yAADjJCstpA+cUqm3zp+gNdWN+tlT21Tf2uV3WQAwbgh7SHjr9jZpb2OHzqcLJwAkHTPT2XNK9YFTpupQW5dueXyrthxs9rssABgXhD0kvIfXH1DApPPmlvpdCgDAJ3Mm5ujjZ89UTnpIdzy7U89vq/W7JACIOsIeEt7D6/ZraWWhirLT/C4FAOCjouw0fezsGZozMUd/fW2f/vrqXvWGGbgFQOIi7CGh7a5v08b9zXThBABIktJCQV1zcqVOm1Gk57fX6c4XdjEfH4CERdhDQntgzT5JIuwBAA4LmOnixZN06fGTtOVgs3721HY1tXf7XRYAjDnCHhKWc05/XF2tE6bka2pxlt/lAABizPJpRbr2lKmqb+vS/z61TTXNnX6XBABjirCHhLVmT6M2H2jR5Usq/C4FABCjZk3I0UdPn67uXqefPbVNu+vb/C4JAMYMYQ8J695V1UoNBfT2xZP8LgUAEMPKCzJ045nTlZ4S1G3PbNem/U1+lwQAY4Kwh4TU2dOrv7yyV29bMFF5GSl+lwMAiHFF2Wm64czpKslJ029e2KVVuw75XRIAHDPCHhLSYxsOqrG9my6cAIBhy0lP0UdPn67pxdn64+pqPbnpoJxjagYA8Yuwh4R076pqTcxN1+kzi/0uBQAQR9JSgvrAqZVaXJGnh9Yf0P+t2acwgQ9AnAr5XQAw1g42dejJzTW64czpCgbM73IAAHEmFAjoPUsnKyctpGe31amlo0dXLKlQKMh35ADiC2EPCefPr+xRb9jp3XThBACMUsBMFy0qU056iv6+br/au3p19fIpSksJ+l0aAAwbX1EhoTjndO+qap04JV8zSrL9LgcAEMfMTGfOLtG7T6zQ9toW3fbMDrV09vhdFgAMG2EPCeXl3Q3afKCFVj0AwJhZUlmga5ZX6mBzh3725DbVt3b5XRIADAthDwnl1ie3Ky8jRZcdX+53KQCABDK3LFcfOm2a2rp69bMnt2n9XubiAxD7CHtIGNtrWvTQ+v16/8mVykrjclQAwNiqLMrS9WdOl5n03p89rxXb6/wuCQCOiLCHhPHzp7crJRjQtadO9bsUAECCmpCbrhvPmqHS3DS9//YX9dC6/X6XBABDIuwhIRxs7tAfV+3RFUsqVJKT5nc5AIAElp+ZqntvPFXzy3L1sTtX6dfP7/S7JAAYFGEPCeGOZ3eqOxzWR8+Y7ncpAIAkUJCVqrs+ulznzi3VF/+yTl/9v/XqDTP5OoDYQthD3Gvu6NZvXtilCxdO1NTiLL/LAQAkiczUkH72/qW67tSp+sUzO/SxO1eprYupGQDEDsIe4t7dL+5Wc0ePbjhzht+lAACSTDBguvmSBfrSO+br0Q0HdOWtL2h/Y4ffZQGAJMIe4lxHd69+8cwOnTK9SMdNzve7HABAkvrgadN06/uXatvBFr39R89o5c56v0sCAMIe4tttT2/X/qYOffK8WX6XAgBIcm+ZP0H3ffw0ZacF9b6fv6Dfrtjld0kAkhxhD3FrX2O7bnl8my5cOFGnzCjyuxwAADR7Qo7+8vHTddrMYn3hvrX67B9fU0d3r99lAUhShD3ErW8+uFG9zunzF83zuxQAAA7Ly0zRL649Sf909gzd/dJuXfrjZ7X5QLPfZQFIQoQ9xKVVu+r151f26oYzp2tyYabf5QAA8AbBgOnfL5irX31omepaO3XJj5/R3S9WyTmmZwAwfgh7iDvhsNPN96/XxNx0fexsRuAEAMSus2aX6IFPnaGllYX67J/W6GN3rtbBZkbrBDA+CHuIO/euqtaaPY363EVzlZka8rscAACOqDQnXb/+0DJ99sK5+semgzr/e0/pDyt308oHIOoIe4gr+xs79PUHN2hJZYEuOW6S3+UAADAsgYDpxrNm6MFPnaHZE7L1mXtf0wduf1FVdW1+lwYggRH2EDd6esP65N0vq7MnrG9dvlhm5ndJAACMyIySbN1z/Sn66qULtHrXIb3le0/q6w9sUGN7t9+lAUhAhD3EjR/+Y6te3FGvr122UDNKsv0uBwCAUQkETO8/Zar+8W9n65LjJ+nWp7frnO88od88v1PdvWG/ywOQQAh7iAvPba3Vj/6xRZcvqdC7TqzwuxwAAI7ZhNx0feeK4/TXm07X7AnZ+s+/rNPZ335Cv35+J3PzARgThD3EvJrmTn3qnlc0vThLX7l0gd/lAAAwphaW5+l3Hz1Zv7zuJE3MS9cX/7JOp3/zcf30iW061Nrld3kA4hhDGSKmtXf16uO/Xa2m9m79+kPLGH0TAJCQzEznzC3V2XNKtGJHvW55fKu++feN+p9HNuvCRRP1vmVTtHxaIderAxgRPjkjZnV09+r636zUyl31+sGVJ2heWa7fJQEAEFVmppOnF+nk6UXauL9Jd7+4W39cXa2/vLJX04qzdPGiMl20qEzzynIIfgCOyuJtjpelS5e6lStX+l0Goqy7N6yP3blKj244qG9fvlhXLJ3sd0mSpLtWVPldAgAgBly1fMq4Hau9q1d/W7NPf1pdrRe21ynspGnFWXrrggk6a1aJlkwtUFooOG71APCfma1yzi092nq07CHm9Iad/vmeV/TohoP66qULYiboAQDgh4zUoC5fUqHLl1SorqVTD607oAfW7NMvnt6hnz25XRkpQZ08vVCnzCjSkspCLSzPJfwBkETYQ4xp7ujWv/z+VT2y/oC+cNE8vf+UqX6XBABAzCjKTtNVy6foquVT1NLZoxe21enpLTV6ekutHt9UI0lKDQV0XEWeFpbnaX5ZruaV5WrWhGwCIJCECHuIGVsPtuiG36zUzro23fyO+brutGl+lwQAgK+Gc/nAnIm5mjMxV80d3dpV16aq+jbtqmvVK7sb1N3rXa4TMKkkJ01leRkqy0vXxNx0FeekKS8jRQGzceuWOl6XQ4xnN1sglhH2EBMeWX9An77nFaWFArrzw8t1yowiv0sCACCu5KSnaGG516InSWHnVNfSpX2N7drX2KH9jR3aXtOiV3Y3HN4mFDAVZafqqc01mlqcpenFWZpWkqXKwkwVZ6cpEGAQGCCeEfbgq0OtXfr2w5t014oqLSrP0/++f4nK8zP8LgsAgLgXMFNJTppKctK0uOL15a2dPTrQ1KHali7VtnSqrqVTWw4267GNBw63BEpSajCgsvx0ledneLeCjMM/T8hLV0lOmnLSQowKCsQwwh58EQ47/WHVbn3jwY1q6ujRh0+fps+8bY7SU7ieAACAaMpKC2l6Sbaml7y+7KrlU9TTG9aehnZtr23V7vo27Wlo155D7drT0K4nN9foYHPnm/aVFgocDpQl2d59cXaaCrNSlZ+ZosKsVBVkpqogK1UFmSlyzhEOgXFE2MO4cs7pyc01+sFjW/RyVYNOmlqgr162UHMnMoceAAB+GXgtXSgQUGVhlioLsw4v6+kNq7G9Ww3t3Wru6FFLR7eaO3vU0tGj5o4e7WvoUHNHt1q7eoc8TihgykwNKistpIzUoLJSQ8pMDSozcp+V9vrPmakhZaUGlRoKEBCBUSLsYVx094b111f36tantmvj/mZNzE3Xd684Tu86sZx/wAEAiAOhYEBF2Wkqyk474nq9Yaf27l61dfaoratXbV3efWvfz53efWtXr/Y1dqitq0ftXb0aaubnoJky04KHQ2JBptdK6N17rYY56SEF+DwBvAlhD1HjnNPaPU36yyt7dP+re3WwuVOzJ2TrO1ccp0uOm6TUUGDMjsVk5wAAxIZgwJSdFlJ22vA/ZoadU0d37xuC4BuCYiQ4Nnd0a/OBZjV39LzxmGbKz0xRUXaqSnPSFQxIM0tzNLM0W3kZKWP9EoG4QdjDmOruDevlqgY9tblGD6zZp+21rUoJms6eU6qrlk3R2XNKaMkDAABvEDCLdN8MSTpyy6Hkfd5oaOvWobYu79bq/Vzb0qntNXV6Zmvt4XVLc9I0a0K2ZpXmaPaEHM2Z6N1GEkaBeGXODdVoHpuWLl3qVq5c6XcZiOjo7tW6vY16uapBL2yv1/PbatXa1atgwLRsaqEm5qVr4aQ8ZaQy8AoAAIi+sHM6Y1axth5s0ZaDLdpyoEVbDzZry8EWtfW7nrCiIENzJ/aFv1zNnZijacVZSgmOXc8jIFrMbJVzbunR1uMrDQxbQ1uXNu5v1qb9zdq4v0nr9jZp/d4m9YS9LwymFGbqshPKdebsEp0yo0i56Sl0rwQAAOMqYKbKoixVFmXpvHkTDi8Ph532NLRHPss0Hf5M8/imGvVGPsukBgOaXpIVCYG5h8NgWV46PZMQl6Ia9szsAkk/kBSUdJtz7hsDnk+T9GtJSyTVSXqvc25nNGvC0Lp7w9rf2KG9Dd7kq3sa2rWztlU7Ire61q7D6+ZnpmjexFx99MzpOmFyvo6fkq/SnHQfqwcAABhaIGCaXJipyYWZOn/+6yGws6dX2w62atOB1wPgih31+vMrew+vk5vuTVdRWZSpysg+vECZqdKcNIIgYlbUwp6ZBSXdIul8SdWSXjKz+51z6/ut9mFJh5xzM83sSknflPTeaNWUjJxzau7sUV1Ll+pbO1Xb0qX6Vu9W29Kpg02d2tvYrr0N7TrY3KmBvXon5KZpalGW3rpggqYVZ2n2hBzNK8vlHzYAAJAQ0kJBzZ+Uq/mT3jgNVGNbtzYdeL0VcEdtq1buPKS/vrpX4X6fl9JTAppckKnSXG+uweLsNBVH5hv05h1MVWFW6uGpJEJ0E8U4imbL3jJJW51z2yXJzO6WdKmk/mHvUkk3R36+V9KPzcxcvF1IOEA47BR2Tr3OyTlvCOKwcwqHdXj5Gx6HvfX6nusNO3V2h9XZ06uOyH1nT+S+O6yO7r7H3s+tnT1q7uyJzHnTo+bO7sM/N3V0q7t38NOZnRZSSU6ayvMzdOasEk3Kz1B5fobK8tM1KT9Dk/IyuNYOAAAkpbzMFC2bVqhl0wrfsLyrx5t8flddq6rq27Srrk2769tU09KpVVWHVNPcqY7u8JD7TQ0FlNU3j2BaUBmpIaUFAwoEvPkNAwFTKGAKmHdf3dAuF/lM6ZyTkw5/bvR+7vscKTm9eT0np755Lfp/Iuz/advJKT8j1Vu333NmXk2hoCkYMKUEAgoGTKGgV1swEFBK33PByHOHnw9EfvbW6dtPStBbNxQMKGWI50OBgFL6lge9/XjbeDWEgt75MfNqDJhFbpJFlvc9DvR7bFK/7ZKj0SKaYa9c0u5+j6slLR9qHedcj5k1SiqSVKs48u/3vqo/rd7jBbhxjqnBgCkrNaic9BTlpIeUkx5SaU66pheHIo9TDn+jVJiVquLstMM/p6cQ5AAAAEYiNRTQtOIsTSvOGvR555xau3pV29yp2hbvdqit25tKorPn8HyDrZFpJlo6e9TT633Z397bq56wUzjsDt/Xt3UNCCmS6Y0Bpi+8BMwU0JvX688U2aDv54gphZnq95TMpHBY6gk79YTD6g079fR6P3f0ePV29zr1hsOR5X3LwofveyLbdPUOHX79MvD8Sd750uGfPcdPztc9N5ziR4ljIi4GaDGz6yVdH3nYYmab/KwnRhUrzkJyAuHc+4vz7x/Ovb84//7i/PvnqOf+6nEqJEkl1e/+Zkm/v9HvKg7rf+4rh7NBNMPeHkmT+z2uiCwbbJ1qMwtJypM3UMsbOOdulXRrlOpMCGa2cjjDr2Lsce79xfn3D+feX5x/f3H+/cO59xfn3z+jOffRvEL0JUmzzGyamaVKulLS/QPWuV/StZGfL5f0j3i/Xg8AAAAAYkHUWvYi1+DdJOkheVMv3O6cW2dmX5G00jl3v6RfSPqNmW2VVC8vEAIAAAAAjlFUr9lzzj0g6YEBy77Y7+cOSVdEs4YkQjdX/3Du/cX59w/n3l+cf39x/v3DufcX598/Iz73Rq9JAAAAAEg8zOoIAAAAAAmIsBfnzOzTZrbOzNaa2e/MLN3vmpKJmX0qcu7Xmdk/+11PojOz283soJmt7bes0MweMbMtkfsCP2tMVEOc+ysiv/thM2Nktiga4vx/28w2mtlrZnafmeX7WGLCGuLcfzVy3l8xs4fNbJKfNSaywc5/v+f+1cycmRX7UVuiG+J3/2Yz2xP53X/FzC7ys8ZENtTvvpl9IvJv/zoz+9bR9kPYi2NmVi7pk5KWOucWyhsIh0FuxomZLZT0UUnLJB0n6e1mNtPfqhLeHZIuGLDss5Iec87NkvRY5DHG3h1687lfK+ldkp4a92qSzx168/l/RNJC59xieVNBfW68i0oSd+jN5/7bzrnFzrnjJf2fpC8O3Ahj5g69+fzLzCZLequkqvEuKIncoUHOvaT/cc4dH7k9MMjzGBt3aMD5N7NzJF0q6Tjn3AJJ3znaTgh78S8kKSMyT2GmpL0+15NM5kla4Zxrc871SHpS3gdfRIlz7il5I/f2d6mkX0V+/pWky8azpmQx2Ll3zm1wzm3yqaSkMsT5fzjyb48kvSBvPluMsSHOfVO/h1mSGAAhSob4d1+S/kfSv4tzHzVHOPcYB0Oc/49J+oZzrjOyzsGj7YewF8ecc3vkJfoqSfskNTrnHva3qqSyVtIZZlZkZpmSLpI02eeaktEE59y+yM/7JU3wsxjAJx+S9KDfRSQTM/svM9st6WrRsjeuzOxSSXucc6/6XUuSuinSjfl2Lp0Yd7PlffZcYWZPmtlJR9uAsBfHIn9gl0qaJmmSpCwzu8bfqpKHc26DpG9KeljS3yW9IqnXz5qSnfOGF+ZbXiQVM/uCpB5Jv/W7lmTinPuCc26yvPN+k9/1JIvIl6ufFwHbLz+VNEPS8fIaGr7razXJJySpUNLJkj4j6fdmZkfagLAX394iaYdzrsY51y3pT5JO9bmmpOKc+4Vzbolz7kxJh+RdN4PxdcDMyiQpcn/ULg1AojCz6yS9XdLVjrmU/PJbSe/2u4gkMkPel9yvmtlOed2XV5vZRF+rShLOuQPOuV7nXFjSz+WNW4DxUy3pT87zoqSwpCMOUETYi29Vkk42s8xIqj9P0gafa0oqZlYauZ8i73q9u/ytKCndL+nayM/XSvqLj7UA48bMLpB3zdIlzrk2v+tJJmY2q9/DSyVt9KuWZOOcW+OcK3XOTXXOTZX34fdE59x+n0tLCn1frka8U94lLRg/f5Z0jiSZ2WxJqZJqj7RBKPo1IVqccyvM7F5Jq+V14XlZ0q3+VpV0/mhmRZK6JX3cOdfgcz0Jzcx+J+lsScVmVi3pS5K+Ia8bw4cl7ZL0Hv8qTFxDnPt6ST+SVCLpb2b2inPubf5VmbiGOP+fk5Qm6ZFIL54XnHM3+lZkghri3F9kZnPkfau+SxLnPUoGO//OuV/4W1VyGOJ3/2wzO17eJRM7Jd3gV32Jbojzf7uk2yPTMXRJuvZovTqMXh8AAAAAkHjoxgkAAAAACYiwBwAAAAAJiLAHAAAAAAmIsAcAAAAACYiwBwAAAAAJiLAHAEgqZnaZmTkzmxt5PDUyjPVo9rXTzI44oe2A9a8zsx+P5lgAAIwUYQ8AkGzeJ+mZyD0AAAmLsAcASBpmli3pdEkflnTlIM8Hzew7ZrbWzF4zs09Elp9nZi+b2Rozu93M0vpt9gkzWx15rq+1sNDM/hzZxwtmtng8Xh8AAP0R9gAAyeRSSX93zm2WVGdmSwY8f72kqZKOd84tlvRbM0uXdIek9zrnFkkKSfpYv21qnXMnSvqppH+LLPuypJcj+/i8pF9H6fUAADAkwh4AIJm8T9LdkZ/v1pu7cr5F0s+ccz2S5JyrlzRH0o5IQJSkX0k6s982f4rcr5IXFCWv9fA3kX38Q1KRmeWO3csAAODoQn4XAADAeDCzQknnSlpkZk5SUJKTdMsx7rozct8r/l8FAMQQWvYAAMnickm/cc5VOuemOucmS9ohaXK/dR6RdIOZhaTDAXGTpKlmNjOyzvslPXmUYz0t6erIPs6W19WzaaxeCAAAw0HYAwAki/dJum/Asj9K+ly/x7dJqpL0mpm9Kukq51yHpA9K+oOZrZEUlvS/RznWzZKWmNlrkr4h6dpjLx8AgJEx55zfNQAAAAAAxhgtewAAAACQgAh7AAAAAJCACHsAAAAAkIAIewAAAACQgAh7AAAAAJCACHsAAAAAkIAIewAAAACQgAh7AAAAAJCA/j+cHvKc3jHdtwAAAABJRU5ErkJggg==\n",
      "text/plain": [
       "<Figure size 1080x720 with 1 Axes>"
      ]
     },
     "metadata": {
      "needs_background": "light"
     },
     "output_type": "display_data"
    }
   ],
   "source": [
    "plt.figure(figsize=(15,10))\n",
    "ax = sns.distplot(df['alcohol'])\n",
    "ax.set_title('Distribution of Alcohol Concentration', size=20)\n",
    "ax.set(ylabel='Density', xlabel='Alcohol');"
   ]
  },
  {
   "cell_type": "code",
   "execution_count": 10,
   "id": "63a6eca9",
   "metadata": {
    "execution": {
     "iopub.execute_input": "2022-03-11T15:16:12.618696Z",
     "iopub.status.busy": "2022-03-11T15:16:12.616904Z",
     "iopub.status.idle": "2022-03-11T15:16:12.657812Z",
     "shell.execute_reply": "2022-03-11T15:16:12.657266Z",
     "shell.execute_reply.started": "2022-03-11T15:15:46.924588Z"
    },
    "papermill": {
     "duration": 0.080328,
     "end_time": "2022-03-11T15:16:12.657957",
     "exception": false,
     "start_time": "2022-03-11T15:16:12.577629",
     "status": "completed"
    },
    "tags": []
   },
   "outputs": [
    {
     "data": {
      "text/html": [
       "<div>\n",
       "<style scoped>\n",
       "    .dataframe tbody tr th:only-of-type {\n",
       "        vertical-align: middle;\n",
       "    }\n",
       "\n",
       "    .dataframe tbody tr th {\n",
       "        vertical-align: top;\n",
       "    }\n",
       "\n",
       "    .dataframe thead th {\n",
       "        text-align: right;\n",
       "    }\n",
       "</style>\n",
       "<table border=\"1\" class=\"dataframe\">\n",
       "  <thead>\n",
       "    <tr style=\"text-align: right;\">\n",
       "      <th></th>\n",
       "      <th>count</th>\n",
       "      <th>mean</th>\n",
       "      <th>std</th>\n",
       "      <th>min</th>\n",
       "      <th>25%</th>\n",
       "      <th>50%</th>\n",
       "      <th>75%</th>\n",
       "      <th>max</th>\n",
       "    </tr>\n",
       "  </thead>\n",
       "  <tbody>\n",
       "    <tr>\n",
       "      <th>fixed acidity</th>\n",
       "      <td>1599.0</td>\n",
       "      <td>8.319637</td>\n",
       "      <td>1.741096</td>\n",
       "      <td>4.60000</td>\n",
       "      <td>7.1000</td>\n",
       "      <td>7.90000</td>\n",
       "      <td>9.200000</td>\n",
       "      <td>15.90000</td>\n",
       "    </tr>\n",
       "    <tr>\n",
       "      <th>volatile acidity</th>\n",
       "      <td>1599.0</td>\n",
       "      <td>0.527821</td>\n",
       "      <td>0.179060</td>\n",
       "      <td>0.12000</td>\n",
       "      <td>0.3900</td>\n",
       "      <td>0.52000</td>\n",
       "      <td>0.640000</td>\n",
       "      <td>1.58000</td>\n",
       "    </tr>\n",
       "    <tr>\n",
       "      <th>citric acid</th>\n",
       "      <td>1599.0</td>\n",
       "      <td>0.270976</td>\n",
       "      <td>0.194801</td>\n",
       "      <td>0.00000</td>\n",
       "      <td>0.0900</td>\n",
       "      <td>0.26000</td>\n",
       "      <td>0.420000</td>\n",
       "      <td>1.00000</td>\n",
       "    </tr>\n",
       "    <tr>\n",
       "      <th>residual sugar</th>\n",
       "      <td>1599.0</td>\n",
       "      <td>2.538806</td>\n",
       "      <td>1.409928</td>\n",
       "      <td>0.90000</td>\n",
       "      <td>1.9000</td>\n",
       "      <td>2.20000</td>\n",
       "      <td>2.600000</td>\n",
       "      <td>15.50000</td>\n",
       "    </tr>\n",
       "    <tr>\n",
       "      <th>chlorides</th>\n",
       "      <td>1599.0</td>\n",
       "      <td>0.087467</td>\n",
       "      <td>0.047065</td>\n",
       "      <td>0.01200</td>\n",
       "      <td>0.0700</td>\n",
       "      <td>0.07900</td>\n",
       "      <td>0.090000</td>\n",
       "      <td>0.61100</td>\n",
       "    </tr>\n",
       "    <tr>\n",
       "      <th>free sulfur dioxide</th>\n",
       "      <td>1599.0</td>\n",
       "      <td>15.874922</td>\n",
       "      <td>10.460157</td>\n",
       "      <td>1.00000</td>\n",
       "      <td>7.0000</td>\n",
       "      <td>14.00000</td>\n",
       "      <td>21.000000</td>\n",
       "      <td>72.00000</td>\n",
       "    </tr>\n",
       "    <tr>\n",
       "      <th>total sulfur dioxide</th>\n",
       "      <td>1599.0</td>\n",
       "      <td>46.467792</td>\n",
       "      <td>32.895324</td>\n",
       "      <td>6.00000</td>\n",
       "      <td>22.0000</td>\n",
       "      <td>38.00000</td>\n",
       "      <td>62.000000</td>\n",
       "      <td>289.00000</td>\n",
       "    </tr>\n",
       "    <tr>\n",
       "      <th>density</th>\n",
       "      <td>1599.0</td>\n",
       "      <td>0.996747</td>\n",
       "      <td>0.001887</td>\n",
       "      <td>0.99007</td>\n",
       "      <td>0.9956</td>\n",
       "      <td>0.99675</td>\n",
       "      <td>0.997835</td>\n",
       "      <td>1.00369</td>\n",
       "    </tr>\n",
       "    <tr>\n",
       "      <th>pH</th>\n",
       "      <td>1599.0</td>\n",
       "      <td>3.311113</td>\n",
       "      <td>0.154386</td>\n",
       "      <td>2.74000</td>\n",
       "      <td>3.2100</td>\n",
       "      <td>3.31000</td>\n",
       "      <td>3.400000</td>\n",
       "      <td>4.01000</td>\n",
       "    </tr>\n",
       "    <tr>\n",
       "      <th>sulphates</th>\n",
       "      <td>1599.0</td>\n",
       "      <td>0.658149</td>\n",
       "      <td>0.169507</td>\n",
       "      <td>0.33000</td>\n",
       "      <td>0.5500</td>\n",
       "      <td>0.62000</td>\n",
       "      <td>0.730000</td>\n",
       "      <td>2.00000</td>\n",
       "    </tr>\n",
       "    <tr>\n",
       "      <th>alcohol</th>\n",
       "      <td>1599.0</td>\n",
       "      <td>10.422983</td>\n",
       "      <td>1.065668</td>\n",
       "      <td>8.40000</td>\n",
       "      <td>9.5000</td>\n",
       "      <td>10.20000</td>\n",
       "      <td>11.100000</td>\n",
       "      <td>14.90000</td>\n",
       "    </tr>\n",
       "    <tr>\n",
       "      <th>quality</th>\n",
       "      <td>1599.0</td>\n",
       "      <td>5.636023</td>\n",
       "      <td>0.807569</td>\n",
       "      <td>3.00000</td>\n",
       "      <td>5.0000</td>\n",
       "      <td>6.00000</td>\n",
       "      <td>6.000000</td>\n",
       "      <td>8.00000</td>\n",
       "    </tr>\n",
       "  </tbody>\n",
       "</table>\n",
       "</div>"
      ],
      "text/plain": [
       "                       count       mean        std      min      25%  \\\n",
       "fixed acidity         1599.0   8.319637   1.741096  4.60000   7.1000   \n",
       "volatile acidity      1599.0   0.527821   0.179060  0.12000   0.3900   \n",
       "citric acid           1599.0   0.270976   0.194801  0.00000   0.0900   \n",
       "residual sugar        1599.0   2.538806   1.409928  0.90000   1.9000   \n",
       "chlorides             1599.0   0.087467   0.047065  0.01200   0.0700   \n",
       "free sulfur dioxide   1599.0  15.874922  10.460157  1.00000   7.0000   \n",
       "total sulfur dioxide  1599.0  46.467792  32.895324  6.00000  22.0000   \n",
       "density               1599.0   0.996747   0.001887  0.99007   0.9956   \n",
       "pH                    1599.0   3.311113   0.154386  2.74000   3.2100   \n",
       "sulphates             1599.0   0.658149   0.169507  0.33000   0.5500   \n",
       "alcohol               1599.0  10.422983   1.065668  8.40000   9.5000   \n",
       "quality               1599.0   5.636023   0.807569  3.00000   5.0000   \n",
       "\n",
       "                           50%        75%        max  \n",
       "fixed acidity          7.90000   9.200000   15.90000  \n",
       "volatile acidity       0.52000   0.640000    1.58000  \n",
       "citric acid            0.26000   0.420000    1.00000  \n",
       "residual sugar         2.20000   2.600000   15.50000  \n",
       "chlorides              0.07900   0.090000    0.61100  \n",
       "free sulfur dioxide   14.00000  21.000000   72.00000  \n",
       "total sulfur dioxide  38.00000  62.000000  289.00000  \n",
       "density                0.99675   0.997835    1.00369  \n",
       "pH                     3.31000   3.400000    4.01000  \n",
       "sulphates              0.62000   0.730000    2.00000  \n",
       "alcohol               10.20000  11.100000   14.90000  \n",
       "quality                6.00000   6.000000    8.00000  "
      ]
     },
     "execution_count": 10,
     "metadata": {},
     "output_type": "execute_result"
    }
   ],
   "source": [
    "df.describe().T"
   ]
  },
  {
   "cell_type": "code",
   "execution_count": 11,
   "id": "aaad911f",
   "metadata": {
    "execution": {
     "iopub.execute_input": "2022-03-11T15:16:12.730030Z",
     "iopub.status.busy": "2022-03-11T15:16:12.729387Z",
     "iopub.status.idle": "2022-03-11T15:16:12.731468Z",
     "shell.execute_reply": "2022-03-11T15:16:12.731942Z",
     "shell.execute_reply.started": "2022-03-11T15:15:46.973232Z"
    },
    "papermill": {
     "duration": 0.041179,
     "end_time": "2022-03-11T15:16:12.732123",
     "exception": false,
     "start_time": "2022-03-11T15:16:12.690944",
     "status": "completed"
    },
    "tags": []
   },
   "outputs": [],
   "source": [
    "features = ['residual sugar', 'total sulfur dioxide', 'sulphates',\n",
    "                   'alcohol', 'volatile acidity', 'quality']\n",
    "df_features = df[features]"
   ]
  },
  {
   "cell_type": "code",
   "execution_count": 12,
   "id": "c1b23972",
   "metadata": {
    "execution": {
     "iopub.execute_input": "2022-03-11T15:16:12.806846Z",
     "iopub.status.busy": "2022-03-11T15:16:12.801905Z",
     "iopub.status.idle": "2022-03-11T15:16:12.853250Z",
     "shell.execute_reply": "2022-03-11T15:16:12.852682Z",
     "shell.execute_reply.started": "2022-03-11T15:15:46.979743Z"
    },
    "papermill": {
     "duration": 0.088119,
     "end_time": "2022-03-11T15:16:12.853406",
     "exception": false,
     "start_time": "2022-03-11T15:16:12.765287",
     "status": "completed"
    },
    "tags": []
   },
   "outputs": [],
   "source": [
    "case_1 = (df_features['quality']==3)|(df_features['quality']==4)\n",
    "case_2 = (df_features['quality']==5)|(df_features['quality']==6)\n",
    "case_3 = (df_features['quality']==7)|(df_features['quality']==8)\n",
    "level_34 = round(df_features[case_1].describe(),2)\n",
    "level_56 = round(df_features[case_2].describe(),2)\n",
    "level_78 = round(df_features[case_3].describe(),2)"
   ]
  },
  {
   "cell_type": "code",
   "execution_count": 13,
   "id": "4acef017",
   "metadata": {
    "execution": {
     "iopub.execute_input": "2022-03-11T15:16:12.949997Z",
     "iopub.status.busy": "2022-03-11T15:16:12.949285Z",
     "iopub.status.idle": "2022-03-11T15:16:12.953633Z",
     "shell.execute_reply": "2022-03-11T15:16:12.953127Z",
     "shell.execute_reply.started": "2022-03-11T15:15:47.039663Z"
    },
    "papermill": {
     "duration": 0.06603,
     "end_time": "2022-03-11T15:16:12.953773",
     "exception": false,
     "start_time": "2022-03-11T15:16:12.887743",
     "status": "completed"
    },
    "tags": []
   },
   "outputs": [
    {
     "data": {
      "text/html": [
       "<div>\n",
       "<style scoped>\n",
       "    .dataframe tbody tr th:only-of-type {\n",
       "        vertical-align: middle;\n",
       "    }\n",
       "\n",
       "    .dataframe tbody tr th {\n",
       "        vertical-align: top;\n",
       "    }\n",
       "\n",
       "    .dataframe thead th {\n",
       "        text-align: right;\n",
       "    }\n",
       "</style>\n",
       "<table border=\"1\" class=\"dataframe\">\n",
       "  <thead>\n",
       "    <tr style=\"text-align: right;\">\n",
       "      <th></th>\n",
       "      <th></th>\n",
       "      <th>count</th>\n",
       "      <th>mean</th>\n",
       "      <th>std</th>\n",
       "      <th>min</th>\n",
       "      <th>25%</th>\n",
       "      <th>50%</th>\n",
       "      <th>75%</th>\n",
       "      <th>max</th>\n",
       "    </tr>\n",
       "  </thead>\n",
       "  <tbody>\n",
       "    <tr>\n",
       "      <th rowspan=\"6\" valign=\"top\">3,4</th>\n",
       "      <th>residual sugar</th>\n",
       "      <td>63.0</td>\n",
       "      <td>2.68</td>\n",
       "      <td>1.72</td>\n",
       "      <td>1.20</td>\n",
       "      <td>1.90</td>\n",
       "      <td>2.10</td>\n",
       "      <td>2.95</td>\n",
       "      <td>12.90</td>\n",
       "    </tr>\n",
       "    <tr>\n",
       "      <th>total sulfur dioxide</th>\n",
       "      <td>63.0</td>\n",
       "      <td>34.44</td>\n",
       "      <td>26.40</td>\n",
       "      <td>7.00</td>\n",
       "      <td>13.50</td>\n",
       "      <td>26.00</td>\n",
       "      <td>48.00</td>\n",
       "      <td>119.00</td>\n",
       "    </tr>\n",
       "    <tr>\n",
       "      <th>sulphates</th>\n",
       "      <td>63.0</td>\n",
       "      <td>0.59</td>\n",
       "      <td>0.22</td>\n",
       "      <td>0.33</td>\n",
       "      <td>0.50</td>\n",
       "      <td>0.56</td>\n",
       "      <td>0.60</td>\n",
       "      <td>2.00</td>\n",
       "    </tr>\n",
       "    <tr>\n",
       "      <th>alcohol</th>\n",
       "      <td>63.0</td>\n",
       "      <td>10.22</td>\n",
       "      <td>0.92</td>\n",
       "      <td>8.40</td>\n",
       "      <td>9.60</td>\n",
       "      <td>10.00</td>\n",
       "      <td>11.00</td>\n",
       "      <td>13.10</td>\n",
       "    </tr>\n",
       "    <tr>\n",
       "      <th>volatile acidity</th>\n",
       "      <td>63.0</td>\n",
       "      <td>0.72</td>\n",
       "      <td>0.25</td>\n",
       "      <td>0.23</td>\n",
       "      <td>0.56</td>\n",
       "      <td>0.68</td>\n",
       "      <td>0.88</td>\n",
       "      <td>1.58</td>\n",
       "    </tr>\n",
       "    <tr>\n",
       "      <th>quality</th>\n",
       "      <td>63.0</td>\n",
       "      <td>3.84</td>\n",
       "      <td>0.37</td>\n",
       "      <td>3.00</td>\n",
       "      <td>4.00</td>\n",
       "      <td>4.00</td>\n",
       "      <td>4.00</td>\n",
       "      <td>4.00</td>\n",
       "    </tr>\n",
       "    <tr>\n",
       "      <th rowspan=\"6\" valign=\"top\">5,6</th>\n",
       "      <th>residual sugar</th>\n",
       "      <td>1319.0</td>\n",
       "      <td>2.50</td>\n",
       "      <td>1.40</td>\n",
       "      <td>0.90</td>\n",
       "      <td>1.90</td>\n",
       "      <td>2.20</td>\n",
       "      <td>2.60</td>\n",
       "      <td>15.50</td>\n",
       "    </tr>\n",
       "    <tr>\n",
       "      <th>total sulfur dioxide</th>\n",
       "      <td>1319.0</td>\n",
       "      <td>48.95</td>\n",
       "      <td>32.71</td>\n",
       "      <td>6.00</td>\n",
       "      <td>24.00</td>\n",
       "      <td>40.00</td>\n",
       "      <td>65.00</td>\n",
       "      <td>165.00</td>\n",
       "    </tr>\n",
       "    <tr>\n",
       "      <th>sulphates</th>\n",
       "      <td>1319.0</td>\n",
       "      <td>0.65</td>\n",
       "      <td>0.17</td>\n",
       "      <td>0.37</td>\n",
       "      <td>0.54</td>\n",
       "      <td>0.61</td>\n",
       "      <td>0.70</td>\n",
       "      <td>1.98</td>\n",
       "    </tr>\n",
       "    <tr>\n",
       "      <th>alcohol</th>\n",
       "      <td>1319.0</td>\n",
       "      <td>10.25</td>\n",
       "      <td>0.97</td>\n",
       "      <td>8.40</td>\n",
       "      <td>9.50</td>\n",
       "      <td>10.00</td>\n",
       "      <td>10.90</td>\n",
       "      <td>14.90</td>\n",
       "    </tr>\n",
       "    <tr>\n",
       "      <th>volatile acidity</th>\n",
       "      <td>1319.0</td>\n",
       "      <td>0.54</td>\n",
       "      <td>0.17</td>\n",
       "      <td>0.16</td>\n",
       "      <td>0.41</td>\n",
       "      <td>0.54</td>\n",
       "      <td>0.64</td>\n",
       "      <td>1.33</td>\n",
       "    </tr>\n",
       "    <tr>\n",
       "      <th>quality</th>\n",
       "      <td>1319.0</td>\n",
       "      <td>5.48</td>\n",
       "      <td>0.50</td>\n",
       "      <td>5.00</td>\n",
       "      <td>5.00</td>\n",
       "      <td>5.00</td>\n",
       "      <td>6.00</td>\n",
       "      <td>6.00</td>\n",
       "    </tr>\n",
       "    <tr>\n",
       "      <th rowspan=\"6\" valign=\"top\">7,8</th>\n",
       "      <th>residual sugar</th>\n",
       "      <td>217.0</td>\n",
       "      <td>2.71</td>\n",
       "      <td>1.36</td>\n",
       "      <td>1.20</td>\n",
       "      <td>2.00</td>\n",
       "      <td>2.30</td>\n",
       "      <td>2.70</td>\n",
       "      <td>8.90</td>\n",
       "    </tr>\n",
       "    <tr>\n",
       "      <th>total sulfur dioxide</th>\n",
       "      <td>217.0</td>\n",
       "      <td>34.89</td>\n",
       "      <td>32.57</td>\n",
       "      <td>7.00</td>\n",
       "      <td>17.00</td>\n",
       "      <td>27.00</td>\n",
       "      <td>43.00</td>\n",
       "      <td>289.00</td>\n",
       "    </tr>\n",
       "    <tr>\n",
       "      <th>sulphates</th>\n",
       "      <td>217.0</td>\n",
       "      <td>0.74</td>\n",
       "      <td>0.13</td>\n",
       "      <td>0.39</td>\n",
       "      <td>0.65</td>\n",
       "      <td>0.74</td>\n",
       "      <td>0.82</td>\n",
       "      <td>1.36</td>\n",
       "    </tr>\n",
       "    <tr>\n",
       "      <th>alcohol</th>\n",
       "      <td>217.0</td>\n",
       "      <td>11.52</td>\n",
       "      <td>1.00</td>\n",
       "      <td>9.20</td>\n",
       "      <td>10.80</td>\n",
       "      <td>11.60</td>\n",
       "      <td>12.20</td>\n",
       "      <td>14.00</td>\n",
       "    </tr>\n",
       "    <tr>\n",
       "      <th>volatile acidity</th>\n",
       "      <td>217.0</td>\n",
       "      <td>0.41</td>\n",
       "      <td>0.14</td>\n",
       "      <td>0.12</td>\n",
       "      <td>0.30</td>\n",
       "      <td>0.37</td>\n",
       "      <td>0.49</td>\n",
       "      <td>0.92</td>\n",
       "    </tr>\n",
       "    <tr>\n",
       "      <th>quality</th>\n",
       "      <td>217.0</td>\n",
       "      <td>7.08</td>\n",
       "      <td>0.28</td>\n",
       "      <td>7.00</td>\n",
       "      <td>7.00</td>\n",
       "      <td>7.00</td>\n",
       "      <td>7.00</td>\n",
       "      <td>8.00</td>\n",
       "    </tr>\n",
       "  </tbody>\n",
       "</table>\n",
       "</div>"
      ],
      "text/plain": [
       "                           count   mean    std   min    25%    50%    75%  \\\n",
       "3,4 residual sugar          63.0   2.68   1.72  1.20   1.90   2.10   2.95   \n",
       "    total sulfur dioxide    63.0  34.44  26.40  7.00  13.50  26.00  48.00   \n",
       "    sulphates               63.0   0.59   0.22  0.33   0.50   0.56   0.60   \n",
       "    alcohol                 63.0  10.22   0.92  8.40   9.60  10.00  11.00   \n",
       "    volatile acidity        63.0   0.72   0.25  0.23   0.56   0.68   0.88   \n",
       "    quality                 63.0   3.84   0.37  3.00   4.00   4.00   4.00   \n",
       "5,6 residual sugar        1319.0   2.50   1.40  0.90   1.90   2.20   2.60   \n",
       "    total sulfur dioxide  1319.0  48.95  32.71  6.00  24.00  40.00  65.00   \n",
       "    sulphates             1319.0   0.65   0.17  0.37   0.54   0.61   0.70   \n",
       "    alcohol               1319.0  10.25   0.97  8.40   9.50  10.00  10.90   \n",
       "    volatile acidity      1319.0   0.54   0.17  0.16   0.41   0.54   0.64   \n",
       "    quality               1319.0   5.48   0.50  5.00   5.00   5.00   6.00   \n",
       "7,8 residual sugar         217.0   2.71   1.36  1.20   2.00   2.30   2.70   \n",
       "    total sulfur dioxide   217.0  34.89  32.57  7.00  17.00  27.00  43.00   \n",
       "    sulphates              217.0   0.74   0.13  0.39   0.65   0.74   0.82   \n",
       "    alcohol                217.0  11.52   1.00  9.20  10.80  11.60  12.20   \n",
       "    volatile acidity       217.0   0.41   0.14  0.12   0.30   0.37   0.49   \n",
       "    quality                217.0   7.08   0.28  7.00   7.00   7.00   7.00   \n",
       "\n",
       "                             max  \n",
       "3,4 residual sugar         12.90  \n",
       "    total sulfur dioxide  119.00  \n",
       "    sulphates               2.00  \n",
       "    alcohol                13.10  \n",
       "    volatile acidity        1.58  \n",
       "    quality                 4.00  \n",
       "5,6 residual sugar         15.50  \n",
       "    total sulfur dioxide  165.00  \n",
       "    sulphates               1.98  \n",
       "    alcohol                14.90  \n",
       "    volatile acidity        1.33  \n",
       "    quality                 6.00  \n",
       "7,8 residual sugar          8.90  \n",
       "    total sulfur dioxide  289.00  \n",
       "    sulphates               1.36  \n",
       "    alcohol                14.00  \n",
       "    volatile acidity        0.92  \n",
       "    quality                 8.00  "
      ]
     },
     "execution_count": 13,
     "metadata": {},
     "output_type": "execute_result"
    }
   ],
   "source": [
    "level_all = pd.concat([level_34,level_56, level_78],\n",
    "                    axis=1, \n",
    "                    keys=['3,4','5,6','7,8',])\n",
    "level_all.T"
   ]
  },
  {
   "cell_type": "code",
   "execution_count": 14,
   "id": "c84e043c",
   "metadata": {
    "execution": {
     "iopub.execute_input": "2022-03-11T15:16:13.025391Z",
     "iopub.status.busy": "2022-03-11T15:16:13.024737Z",
     "iopub.status.idle": "2022-03-11T15:16:14.480894Z",
     "shell.execute_reply": "2022-03-11T15:16:14.481695Z",
     "shell.execute_reply.started": "2022-03-11T15:15:47.072103Z"
    },
    "papermill": {
     "duration": 1.493759,
     "end_time": "2022-03-11T15:16:14.481983",
     "exception": false,
     "start_time": "2022-03-11T15:16:12.988224",
     "status": "completed"
    },
    "tags": []
   },
   "outputs": [
    {
     "name": "stdout",
     "output_type": "stream",
     "text": [
      "SUCCESS RATES\n",
      "LR success rate:nan\n",
      "NB success rate:0.55\n",
      "KNN success rate:0.58\n",
      "DT success rate:0.61\n",
      "SVM rbf success rate:0.62\n",
      "SVM linear success rate:0.58\n",
      "LDA success rate:0.59\n"
     ]
    }
   ],
   "source": [
    "def get_models():\n",
    "    models=[]\n",
    "    models.append((\"LR\",LogisticRegression()))\n",
    "    models.append((\"NB\",GaussianNB()))\n",
    "    models.append((\"KNN\",KNeighborsClassifier()))\n",
    "    models.append((\"DT\",DecisionTreeClassifier()))\n",
    "    models.append((\"SVM rbf\",SVC()))\n",
    "    models.append((\"SVM linear\",SVC(kernel='linear')))\n",
    "    models.append(('LDA', LinearDiscriminantAnalysis()))\n",
    "    \n",
    "    return models\n",
    "\n",
    "def cross_validation_scores_for_various_ml_models(X_cv, y_cv):\n",
    "    print(\"success rates\".upper())\n",
    "    models=get_models()\n",
    "\n",
    "\n",
    "    results=[]\n",
    "    names= []\n",
    "\n",
    "    for name, model in models:\n",
    "        kfold=StratifiedKFold(n_splits=5,shuffle=True,random_state=22)\n",
    "        cv_result=cross_val_score(model,X_cv, y_cv, cv=kfold,scoring=\"accuracy\")\n",
    "        names.append(name)\n",
    "        results.append(cv_result)\n",
    "        print(\"{} success rate:{:0.2f}\".format(name, cv_result.mean()))\n",
    "        \n",
    "df_temp = df.copy(deep=True)\n",
    "X = df.drop('quality', axis=1)\n",
    "y = df['quality']\n",
    "\n",
    "X=StandardScaler().fit_transform(X)\n",
    "cross_validation_scores_for_various_ml_models(X, y)\n"
   ]
  },
  {
   "cell_type": "code",
   "execution_count": 15,
   "id": "639cac65",
   "metadata": {
    "execution": {
     "iopub.execute_input": "2022-03-11T15:16:14.628955Z",
     "iopub.status.busy": "2022-03-11T15:16:14.627896Z",
     "iopub.status.idle": "2022-03-11T15:16:16.064068Z",
     "shell.execute_reply": "2022-03-11T15:16:16.064999Z"
    },
    "papermill": {
     "duration": 1.515729,
     "end_time": "2022-03-11T15:16:16.065298",
     "exception": false,
     "start_time": "2022-03-11T15:16:14.549569",
     "status": "completed"
    },
    "tags": []
   },
   "outputs": [
    {
     "name": "stdout",
     "output_type": "stream",
     "text": [
      "SUCCESS RATES\n",
      "LR success rate:nan\n",
      "NB success rate:0.55\n",
      "KNN success rate:0.58\n",
      "DT success rate:0.62\n",
      "SVM rbf success rate:0.62\n",
      "SVM linear success rate:0.58\n",
      "LDA success rate:0.59\n"
     ]
    }
   ],
   "source": [
    "df_temp = df.copy(deep=True)\n",
    "X = df.drop('quality', axis=1)\n",
    "y = df['quality']\n",
    "\n",
    "X=StandardScaler().fit_transform(X)\n",
    "cross_validation_scores_for_various_ml_models(X, y)\n"
   ]
  },
  {
   "attachments": {
    "75af5820-4e1d-427d-9557-263977e487fc.png": {
     "image/png": "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"
    }
   },
   "cell_type": "markdown",
   "id": "55409921",
   "metadata": {
    "papermill": {
     "duration": 0.057018,
     "end_time": "2022-03-11T15:16:16.193061",
     "exception": false,
     "start_time": "2022-03-11T15:16:16.136043",
     "status": "completed"
    },
    "tags": []
   },
   "source": [
    "![indir.png](attachment:75af5820-4e1d-427d-9557-263977e487fc.png)"
   ]
  }
 ],
 "metadata": {
  "kernelspec": {
   "display_name": "Python 3",
   "language": "python",
   "name": "python3"
  },
  "language_info": {
   "codemirror_mode": {
    "name": "ipython",
    "version": 3
   },
   "file_extension": ".py",
   "mimetype": "text/x-python",
   "name": "python",
   "nbconvert_exporter": "python",
   "pygments_lexer": "ipython3",
   "version": "3.7.12"
  },
  "papermill": {
   "default_parameters": {},
   "duration": 17.710014,
   "end_time": "2022-03-11T15:16:16.948137",
   "environment_variables": {},
   "exception": null,
   "input_path": "__notebook__.ipynb",
   "output_path": "__notebook__.ipynb",
   "parameters": {},
   "start_time": "2022-03-11T15:15:59.238123",
   "version": "2.3.3"
  }
 },
 "nbformat": 4,
 "nbformat_minor": 5
}
